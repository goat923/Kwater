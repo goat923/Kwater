{
 "cells": [
  {
   "cell_type": "markdown",
   "id": "7dbdfd48-353d-4379-befd-03260c544b49",
   "metadata": {},
   "source": [
    "# 데이콘 이상탐지 데이터 분석\n",
    "---"
   ]
  },
  {
   "cell_type": "code",
   "execution_count": null,
   "id": "281317ed",
   "metadata": {},
   "outputs": [],
   "source": [
    "!pip install --upgrade matplotlib"
   ]
  },
  {
   "cell_type": "code",
   "execution_count": 1,
   "id": "ffb6f665-d144-4dc2-9003-7a492e586fd5",
   "metadata": {
    "scrolled": true
   },
   "outputs": [],
   "source": [
    "import numpy as np\n",
    "import pandas as pd\n",
    "import matplotlib.pyplot as plt\n",
    "import seaborn as sns\n",
    "from sklearn.ensemble import IsolationForest\n",
    "from scipy.signal import butter, filtfilt\n",
    "import pywt\n",
    "from sklearn.svm import OneClassSVM\n",
    "from sklearn.preprocessing import StandardScaler\n",
    "from sklearn.ensemble import IsolationForest\n",
    "import shap"
   ]
  },
  {
   "cell_type": "markdown",
   "id": "366dfea1",
   "metadata": {},
   "source": [
    "![관망구조B](관망구조_B.jpg)"
   ]
  },
  {
   "cell_type": "markdown",
   "id": "3d53891d",
   "metadata": {},
   "source": [
    "# M7펌프가 24/06/26 05:58 1에서 0으로 변함\n",
    "# 압력계가 비정상이되면 14:20-부터 급격히 떨어지다가 정상화된 14:50부터 다시 올라감\n",
    "- P가 anomaly 관측에 주요 변수로 보임(P8)\n",
    "- 밸브 개도율 수시 변동과 p8 p9 사이 상관관계 가능\n",
    "- Q4는 굉장히 중요한 변수다\n",
    "- Q5가 완전 음에서 완전 양으로 바뀐다\n",
    "- p7하고 q4가 상관관계 -1에 가까워 q4와 p7사이에 밸브는 개도율이 수시로 변동한다 \n",
    "- p7이 압력이 높아졌을 때 밸브를 닫아서 q4의 유량이 감소했을 가능성이 있음\n",
    "- 베르누이 원리에 의해서 정상상태에서는 유량과 압력이 음의 상관관계다\n",
    "- 근데 anomaly상황에서 q5에서 양의 상관관계다\n",
    "Anomaly 상황에서 유량과 압력이 양의 상관관계를 보이는 것은 시스템에 비정상적인 상태가 발생했음을 시사합니다. 이는 다음과 같은 상황을 나타낼 수 있습니다:\n",
    "누수 발생: 파이프라인에 누수가 발생하면, 압력이 증가함에 따라 누수 지점을 통한 유량도 증가할 수 있습니다2. 이는 정상적인 흐름과는 다른 패턴을 보이게 됩니다.\n",
    "막힘 현상: 파이프라인에 부분적인 막힘이 발생하면, 압력이 증가하면서 동시에 유량도 증가할 수 있습니다. 이는 막힘을 통과하기 위해 더 높은 압력이 필요하기 때문입니다2.\n",
    "펌프 오작동: 시스템 내 펌프가 비정상적으로 작동하면, 압력과 유량이 동시에 증가하는 현상이 나타날 수 있습니다3.\n",
    "밸브 오작동: 제어 밸브가 제대로 작동하지 않으면, 압력과 유량 사이의 정상적인 관계가 무너질 수 있습니다.\n",
    "결론\n",
    "이러한 관찰 결과는 시스템의 정상 상태와 비정상 상태를 구분하는 중요한 지표가 될 수 있습니다4. 유량과 압력 사이의 관계가 갑자기 변화하는 것은 시스템에 문제가 발생했음을 나타내는 신호일 수 있으며, 이를 통해 조기에 문제를 감지하고 대응할 수 있습니다. 따라서 이러한 패턴 변화를 모니터링하는 것은 수도 공급 시스템의 효율적인 관리와 유지보수에 매우 중요합니다5."
   ]
  },
  {
   "cell_type": "markdown",
   "id": "691710e9",
   "metadata": {},
   "source": [
    "1. 1-2단계 조합 전략\n",
    "1단계(100% 정확도)로 필터링된 400개 데이터를 기준으로 함\n",
    "2단계(90% 정확도)의 예측을 보조 지표로 활용\n",
    "두 모델의 예측이 일치하는 구간은 높은 신뢰도로 anomaly로 판단\n",
    "불일치하는 구간은 3단계에서 더 엄격한 기준 적용\n",
    "2. 3단계 Pi_flag 탐지 전략\n",
    "시계열 패턴 기반 접근\n",
    "연속성 확인\n",
    "첫 번째 이미지처럼 급격한 하락 후 회복 패턴 확인\n",
    "하락 지속 시간이 일정 기간 이상인 경우만 고려\n",
    "동시성 탐지\n",
    "두 번째 이미지처럼 P7-P9의 동시 하락 패턴 확인\n",
    "상관행렬에서 보이는 인접 압력계 간 높은 상관관계 활용\n",
    "앙상블 규칙\n",
    "필수 조건\n",
    "1단계에서 anomaly로 탐지된 구간\n",
    "연속된 압력계의 동시 하락\n",
    "하락 후 회복 패턴 존재\n",
    "보조 조건\n",
    "2단계 모델의 anomaly 예측\n",
    "하락 특성(magnitude, duration, speed) 중 2개 이상 임계값 초과\n",
    "인접 압력계와의 상관계수가 임계값 이상\n",
    "최종 판단\n",
    "필수 조건을 모두 만족하고\n",
    "보조 조건 중 2개 이상 만족 시 Pi_flag=1로 설정\n",
    "이러한 앙상블 접근은 네 번째 이미지에서 보이는 것처럼 실제 flag 변화를 더 정확하게 포착할 수 있습니다.\n",
    "\n"
   ]
  },
  {
   "cell_type": "markdown",
   "id": "c744446e-3470-46ef-862f-f55b9fa0bd48",
   "metadata": {},
   "source": [
    "# 1단계"
   ]
  },
  {
   "cell_type": "code",
   "execution_count": 2,
   "id": "3d383d19-25bb-4bcb-ab1e-aa7e6ba1a4d4",
   "metadata": {},
   "outputs": [
    {
     "name": "stdout",
     "output_type": "stream",
     "text": [
      "Index(['timestamp', 'Q1', 'Q2', 'Q3', 'Q4', 'Q5', 'M1', 'M2', 'M3', 'M4', 'M5',\n",
      "       'M6', 'M7', 'M8', 'M9', 'M10', 'M11', 'M12', 'M13', 'M14', 'P1', 'P2',\n",
      "       'P3', 'P4', 'P5', 'P6', 'P7', 'P8', 'P9', 'P10', 'P11', 'P12', 'P13',\n",
      "       'P14', 'P15', 'P16', 'P17', 'P18', 'P19', 'P20', 'P21', 'P22', 'P23',\n",
      "       'P24', 'P25', 'P26', 'anomaly', 'P1_flag', 'P2_flag', 'P3_flag',\n",
      "       'P4_flag', 'P5_flag', 'P6_flag', 'P7_flag', 'P8_flag', 'P9_flag',\n",
      "       'P10_flag', 'P11_flag', 'P12_flag', 'P13_flag', 'P14_flag', 'P15_flag',\n",
      "       'P16_flag', 'P17_flag', 'P18_flag', 'P19_flag', 'P20_flag', 'P21_flag',\n",
      "       'P22_flag', 'P23_flag', 'P24_flag', 'P25_flag', 'P26_flag'],\n",
      "      dtype='object')\n",
      "칼럼 수 :  73\n",
      "차원 :  (44101, 73)\n"
     ]
    }
   ],
   "source": [
    "df_A = pd.read_csv(\"TRAIN_A.csv\")\n",
    "\n",
    "print(df_A.columns)\n",
    "print(\"칼럼 수 : \",len(df_A.columns))\n",
    "print(\"차원 : \",df_A.shape)\n",
    "\n",
    "\n",
    "# 새로운 열 생성: Q5 - (Q1 + Q2 + Q3 + Q4)\n",
    "df_A['leakage'] = df_A['Q1'] + df_A['Q2'] + df_A['Q3'] + df_A['Q4'] - df_A['Q5']\n",
    "#df_A['leakage_diff'] = df_A['leakage'].diff()"
   ]
  },
  {
   "cell_type": "code",
   "execution_count": 3,
   "id": "c4e6b9fa",
   "metadata": {},
   "outputs": [],
   "source": [
    "# 2. 양수 leakage만 필터링\n",
    "positive_mask = df_A['leakage'] > 0\n",
    "df_positive = df_A[positive_mask].copy()"
   ]
  },
  {
   "cell_type": "code",
   "execution_count": 4,
   "id": "4aae776a",
   "metadata": {},
   "outputs": [],
   "source": [
    "# 2. Isolation Forest 모델 정의\n",
    "iso_forest = IsolationForest(\n",
    "    contamination=0.03,  # anomaly 비율\n",
    "    random_state=42,\n",
    "    n_estimators=100\n",
    ")"
   ]
  },
  {
   "cell_type": "code",
   "execution_count": 5,
   "id": "6d5ad09f",
   "metadata": {},
   "outputs": [
    {
     "data": {
      "text/html": [
       "<style>#sk-container-id-1 {\n",
       "  /* Definition of color scheme common for light and dark mode */\n",
       "  --sklearn-color-text: black;\n",
       "  --sklearn-color-line: gray;\n",
       "  /* Definition of color scheme for unfitted estimators */\n",
       "  --sklearn-color-unfitted-level-0: #fff5e6;\n",
       "  --sklearn-color-unfitted-level-1: #f6e4d2;\n",
       "  --sklearn-color-unfitted-level-2: #ffe0b3;\n",
       "  --sklearn-color-unfitted-level-3: chocolate;\n",
       "  /* Definition of color scheme for fitted estimators */\n",
       "  --sklearn-color-fitted-level-0: #f0f8ff;\n",
       "  --sklearn-color-fitted-level-1: #d4ebff;\n",
       "  --sklearn-color-fitted-level-2: #b3dbfd;\n",
       "  --sklearn-color-fitted-level-3: cornflowerblue;\n",
       "\n",
       "  /* Specific color for light theme */\n",
       "  --sklearn-color-text-on-default-background: var(--sg-text-color, var(--theme-code-foreground, var(--jp-content-font-color1, black)));\n",
       "  --sklearn-color-background: var(--sg-background-color, var(--theme-background, var(--jp-layout-color0, white)));\n",
       "  --sklearn-color-border-box: var(--sg-text-color, var(--theme-code-foreground, var(--jp-content-font-color1, black)));\n",
       "  --sklearn-color-icon: #696969;\n",
       "\n",
       "  @media (prefers-color-scheme: dark) {\n",
       "    /* Redefinition of color scheme for dark theme */\n",
       "    --sklearn-color-text-on-default-background: var(--sg-text-color, var(--theme-code-foreground, var(--jp-content-font-color1, white)));\n",
       "    --sklearn-color-background: var(--sg-background-color, var(--theme-background, var(--jp-layout-color0, #111)));\n",
       "    --sklearn-color-border-box: var(--sg-text-color, var(--theme-code-foreground, var(--jp-content-font-color1, white)));\n",
       "    --sklearn-color-icon: #878787;\n",
       "  }\n",
       "}\n",
       "\n",
       "#sk-container-id-1 {\n",
       "  color: var(--sklearn-color-text);\n",
       "}\n",
       "\n",
       "#sk-container-id-1 pre {\n",
       "  padding: 0;\n",
       "}\n",
       "\n",
       "#sk-container-id-1 input.sk-hidden--visually {\n",
       "  border: 0;\n",
       "  clip: rect(1px 1px 1px 1px);\n",
       "  clip: rect(1px, 1px, 1px, 1px);\n",
       "  height: 1px;\n",
       "  margin: -1px;\n",
       "  overflow: hidden;\n",
       "  padding: 0;\n",
       "  position: absolute;\n",
       "  width: 1px;\n",
       "}\n",
       "\n",
       "#sk-container-id-1 div.sk-dashed-wrapped {\n",
       "  border: 1px dashed var(--sklearn-color-line);\n",
       "  margin: 0 0.4em 0.5em 0.4em;\n",
       "  box-sizing: border-box;\n",
       "  padding-bottom: 0.4em;\n",
       "  background-color: var(--sklearn-color-background);\n",
       "}\n",
       "\n",
       "#sk-container-id-1 div.sk-container {\n",
       "  /* jupyter's `normalize.less` sets `[hidden] { display: none; }`\n",
       "     but bootstrap.min.css set `[hidden] { display: none !important; }`\n",
       "     so we also need the `!important` here to be able to override the\n",
       "     default hidden behavior on the sphinx rendered scikit-learn.org.\n",
       "     See: https://github.com/scikit-learn/scikit-learn/issues/21755 */\n",
       "  display: inline-block !important;\n",
       "  position: relative;\n",
       "}\n",
       "\n",
       "#sk-container-id-1 div.sk-text-repr-fallback {\n",
       "  display: none;\n",
       "}\n",
       "\n",
       "div.sk-parallel-item,\n",
       "div.sk-serial,\n",
       "div.sk-item {\n",
       "  /* draw centered vertical line to link estimators */\n",
       "  background-image: linear-gradient(var(--sklearn-color-text-on-default-background), var(--sklearn-color-text-on-default-background));\n",
       "  background-size: 2px 100%;\n",
       "  background-repeat: no-repeat;\n",
       "  background-position: center center;\n",
       "}\n",
       "\n",
       "/* Parallel-specific style estimator block */\n",
       "\n",
       "#sk-container-id-1 div.sk-parallel-item::after {\n",
       "  content: \"\";\n",
       "  width: 100%;\n",
       "  border-bottom: 2px solid var(--sklearn-color-text-on-default-background);\n",
       "  flex-grow: 1;\n",
       "}\n",
       "\n",
       "#sk-container-id-1 div.sk-parallel {\n",
       "  display: flex;\n",
       "  align-items: stretch;\n",
       "  justify-content: center;\n",
       "  background-color: var(--sklearn-color-background);\n",
       "  position: relative;\n",
       "}\n",
       "\n",
       "#sk-container-id-1 div.sk-parallel-item {\n",
       "  display: flex;\n",
       "  flex-direction: column;\n",
       "}\n",
       "\n",
       "#sk-container-id-1 div.sk-parallel-item:first-child::after {\n",
       "  align-self: flex-end;\n",
       "  width: 50%;\n",
       "}\n",
       "\n",
       "#sk-container-id-1 div.sk-parallel-item:last-child::after {\n",
       "  align-self: flex-start;\n",
       "  width: 50%;\n",
       "}\n",
       "\n",
       "#sk-container-id-1 div.sk-parallel-item:only-child::after {\n",
       "  width: 0;\n",
       "}\n",
       "\n",
       "/* Serial-specific style estimator block */\n",
       "\n",
       "#sk-container-id-1 div.sk-serial {\n",
       "  display: flex;\n",
       "  flex-direction: column;\n",
       "  align-items: center;\n",
       "  background-color: var(--sklearn-color-background);\n",
       "  padding-right: 1em;\n",
       "  padding-left: 1em;\n",
       "}\n",
       "\n",
       "\n",
       "/* Toggleable style: style used for estimator/Pipeline/ColumnTransformer box that is\n",
       "clickable and can be expanded/collapsed.\n",
       "- Pipeline and ColumnTransformer use this feature and define the default style\n",
       "- Estimators will overwrite some part of the style using the `sk-estimator` class\n",
       "*/\n",
       "\n",
       "/* Pipeline and ColumnTransformer style (default) */\n",
       "\n",
       "#sk-container-id-1 div.sk-toggleable {\n",
       "  /* Default theme specific background. It is overwritten whether we have a\n",
       "  specific estimator or a Pipeline/ColumnTransformer */\n",
       "  background-color: var(--sklearn-color-background);\n",
       "}\n",
       "\n",
       "/* Toggleable label */\n",
       "#sk-container-id-1 label.sk-toggleable__label {\n",
       "  cursor: pointer;\n",
       "  display: block;\n",
       "  width: 100%;\n",
       "  margin-bottom: 0;\n",
       "  padding: 0.5em;\n",
       "  box-sizing: border-box;\n",
       "  text-align: center;\n",
       "}\n",
       "\n",
       "#sk-container-id-1 label.sk-toggleable__label-arrow:before {\n",
       "  /* Arrow on the left of the label */\n",
       "  content: \"▸\";\n",
       "  float: left;\n",
       "  margin-right: 0.25em;\n",
       "  color: var(--sklearn-color-icon);\n",
       "}\n",
       "\n",
       "#sk-container-id-1 label.sk-toggleable__label-arrow:hover:before {\n",
       "  color: var(--sklearn-color-text);\n",
       "}\n",
       "\n",
       "/* Toggleable content - dropdown */\n",
       "\n",
       "#sk-container-id-1 div.sk-toggleable__content {\n",
       "  max-height: 0;\n",
       "  max-width: 0;\n",
       "  overflow: hidden;\n",
       "  text-align: left;\n",
       "  /* unfitted */\n",
       "  background-color: var(--sklearn-color-unfitted-level-0);\n",
       "}\n",
       "\n",
       "#sk-container-id-1 div.sk-toggleable__content.fitted {\n",
       "  /* fitted */\n",
       "  background-color: var(--sklearn-color-fitted-level-0);\n",
       "}\n",
       "\n",
       "#sk-container-id-1 div.sk-toggleable__content pre {\n",
       "  margin: 0.2em;\n",
       "  border-radius: 0.25em;\n",
       "  color: var(--sklearn-color-text);\n",
       "  /* unfitted */\n",
       "  background-color: var(--sklearn-color-unfitted-level-0);\n",
       "}\n",
       "\n",
       "#sk-container-id-1 div.sk-toggleable__content.fitted pre {\n",
       "  /* unfitted */\n",
       "  background-color: var(--sklearn-color-fitted-level-0);\n",
       "}\n",
       "\n",
       "#sk-container-id-1 input.sk-toggleable__control:checked~div.sk-toggleable__content {\n",
       "  /* Expand drop-down */\n",
       "  max-height: 200px;\n",
       "  max-width: 100%;\n",
       "  overflow: auto;\n",
       "}\n",
       "\n",
       "#sk-container-id-1 input.sk-toggleable__control:checked~label.sk-toggleable__label-arrow:before {\n",
       "  content: \"▾\";\n",
       "}\n",
       "\n",
       "/* Pipeline/ColumnTransformer-specific style */\n",
       "\n",
       "#sk-container-id-1 div.sk-label input.sk-toggleable__control:checked~label.sk-toggleable__label {\n",
       "  color: var(--sklearn-color-text);\n",
       "  background-color: var(--sklearn-color-unfitted-level-2);\n",
       "}\n",
       "\n",
       "#sk-container-id-1 div.sk-label.fitted input.sk-toggleable__control:checked~label.sk-toggleable__label {\n",
       "  background-color: var(--sklearn-color-fitted-level-2);\n",
       "}\n",
       "\n",
       "/* Estimator-specific style */\n",
       "\n",
       "/* Colorize estimator box */\n",
       "#sk-container-id-1 div.sk-estimator input.sk-toggleable__control:checked~label.sk-toggleable__label {\n",
       "  /* unfitted */\n",
       "  background-color: var(--sklearn-color-unfitted-level-2);\n",
       "}\n",
       "\n",
       "#sk-container-id-1 div.sk-estimator.fitted input.sk-toggleable__control:checked~label.sk-toggleable__label {\n",
       "  /* fitted */\n",
       "  background-color: var(--sklearn-color-fitted-level-2);\n",
       "}\n",
       "\n",
       "#sk-container-id-1 div.sk-label label.sk-toggleable__label,\n",
       "#sk-container-id-1 div.sk-label label {\n",
       "  /* The background is the default theme color */\n",
       "  color: var(--sklearn-color-text-on-default-background);\n",
       "}\n",
       "\n",
       "/* On hover, darken the color of the background */\n",
       "#sk-container-id-1 div.sk-label:hover label.sk-toggleable__label {\n",
       "  color: var(--sklearn-color-text);\n",
       "  background-color: var(--sklearn-color-unfitted-level-2);\n",
       "}\n",
       "\n",
       "/* Label box, darken color on hover, fitted */\n",
       "#sk-container-id-1 div.sk-label.fitted:hover label.sk-toggleable__label.fitted {\n",
       "  color: var(--sklearn-color-text);\n",
       "  background-color: var(--sklearn-color-fitted-level-2);\n",
       "}\n",
       "\n",
       "/* Estimator label */\n",
       "\n",
       "#sk-container-id-1 div.sk-label label {\n",
       "  font-family: monospace;\n",
       "  font-weight: bold;\n",
       "  display: inline-block;\n",
       "  line-height: 1.2em;\n",
       "}\n",
       "\n",
       "#sk-container-id-1 div.sk-label-container {\n",
       "  text-align: center;\n",
       "}\n",
       "\n",
       "/* Estimator-specific */\n",
       "#sk-container-id-1 div.sk-estimator {\n",
       "  font-family: monospace;\n",
       "  border: 1px dotted var(--sklearn-color-border-box);\n",
       "  border-radius: 0.25em;\n",
       "  box-sizing: border-box;\n",
       "  margin-bottom: 0.5em;\n",
       "  /* unfitted */\n",
       "  background-color: var(--sklearn-color-unfitted-level-0);\n",
       "}\n",
       "\n",
       "#sk-container-id-1 div.sk-estimator.fitted {\n",
       "  /* fitted */\n",
       "  background-color: var(--sklearn-color-fitted-level-0);\n",
       "}\n",
       "\n",
       "/* on hover */\n",
       "#sk-container-id-1 div.sk-estimator:hover {\n",
       "  /* unfitted */\n",
       "  background-color: var(--sklearn-color-unfitted-level-2);\n",
       "}\n",
       "\n",
       "#sk-container-id-1 div.sk-estimator.fitted:hover {\n",
       "  /* fitted */\n",
       "  background-color: var(--sklearn-color-fitted-level-2);\n",
       "}\n",
       "\n",
       "/* Specification for estimator info (e.g. \"i\" and \"?\") */\n",
       "\n",
       "/* Common style for \"i\" and \"?\" */\n",
       "\n",
       ".sk-estimator-doc-link,\n",
       "a:link.sk-estimator-doc-link,\n",
       "a:visited.sk-estimator-doc-link {\n",
       "  float: right;\n",
       "  font-size: smaller;\n",
       "  line-height: 1em;\n",
       "  font-family: monospace;\n",
       "  background-color: var(--sklearn-color-background);\n",
       "  border-radius: 1em;\n",
       "  height: 1em;\n",
       "  width: 1em;\n",
       "  text-decoration: none !important;\n",
       "  margin-left: 1ex;\n",
       "  /* unfitted */\n",
       "  border: var(--sklearn-color-unfitted-level-1) 1pt solid;\n",
       "  color: var(--sklearn-color-unfitted-level-1);\n",
       "}\n",
       "\n",
       ".sk-estimator-doc-link.fitted,\n",
       "a:link.sk-estimator-doc-link.fitted,\n",
       "a:visited.sk-estimator-doc-link.fitted {\n",
       "  /* fitted */\n",
       "  border: var(--sklearn-color-fitted-level-1) 1pt solid;\n",
       "  color: var(--sklearn-color-fitted-level-1);\n",
       "}\n",
       "\n",
       "/* On hover */\n",
       "div.sk-estimator:hover .sk-estimator-doc-link:hover,\n",
       ".sk-estimator-doc-link:hover,\n",
       "div.sk-label-container:hover .sk-estimator-doc-link:hover,\n",
       ".sk-estimator-doc-link:hover {\n",
       "  /* unfitted */\n",
       "  background-color: var(--sklearn-color-unfitted-level-3);\n",
       "  color: var(--sklearn-color-background);\n",
       "  text-decoration: none;\n",
       "}\n",
       "\n",
       "div.sk-estimator.fitted:hover .sk-estimator-doc-link.fitted:hover,\n",
       ".sk-estimator-doc-link.fitted:hover,\n",
       "div.sk-label-container:hover .sk-estimator-doc-link.fitted:hover,\n",
       ".sk-estimator-doc-link.fitted:hover {\n",
       "  /* fitted */\n",
       "  background-color: var(--sklearn-color-fitted-level-3);\n",
       "  color: var(--sklearn-color-background);\n",
       "  text-decoration: none;\n",
       "}\n",
       "\n",
       "/* Span, style for the box shown on hovering the info icon */\n",
       ".sk-estimator-doc-link span {\n",
       "  display: none;\n",
       "  z-index: 9999;\n",
       "  position: relative;\n",
       "  font-weight: normal;\n",
       "  right: .2ex;\n",
       "  padding: .5ex;\n",
       "  margin: .5ex;\n",
       "  width: min-content;\n",
       "  min-width: 20ex;\n",
       "  max-width: 50ex;\n",
       "  color: var(--sklearn-color-text);\n",
       "  box-shadow: 2pt 2pt 4pt #999;\n",
       "  /* unfitted */\n",
       "  background: var(--sklearn-color-unfitted-level-0);\n",
       "  border: .5pt solid var(--sklearn-color-unfitted-level-3);\n",
       "}\n",
       "\n",
       ".sk-estimator-doc-link.fitted span {\n",
       "  /* fitted */\n",
       "  background: var(--sklearn-color-fitted-level-0);\n",
       "  border: var(--sklearn-color-fitted-level-3);\n",
       "}\n",
       "\n",
       ".sk-estimator-doc-link:hover span {\n",
       "  display: block;\n",
       "}\n",
       "\n",
       "/* \"?\"-specific style due to the `<a>` HTML tag */\n",
       "\n",
       "#sk-container-id-1 a.estimator_doc_link {\n",
       "  float: right;\n",
       "  font-size: 1rem;\n",
       "  line-height: 1em;\n",
       "  font-family: monospace;\n",
       "  background-color: var(--sklearn-color-background);\n",
       "  border-radius: 1rem;\n",
       "  height: 1rem;\n",
       "  width: 1rem;\n",
       "  text-decoration: none;\n",
       "  /* unfitted */\n",
       "  color: var(--sklearn-color-unfitted-level-1);\n",
       "  border: var(--sklearn-color-unfitted-level-1) 1pt solid;\n",
       "}\n",
       "\n",
       "#sk-container-id-1 a.estimator_doc_link.fitted {\n",
       "  /* fitted */\n",
       "  border: var(--sklearn-color-fitted-level-1) 1pt solid;\n",
       "  color: var(--sklearn-color-fitted-level-1);\n",
       "}\n",
       "\n",
       "/* On hover */\n",
       "#sk-container-id-1 a.estimator_doc_link:hover {\n",
       "  /* unfitted */\n",
       "  background-color: var(--sklearn-color-unfitted-level-3);\n",
       "  color: var(--sklearn-color-background);\n",
       "  text-decoration: none;\n",
       "}\n",
       "\n",
       "#sk-container-id-1 a.estimator_doc_link.fitted:hover {\n",
       "  /* fitted */\n",
       "  background-color: var(--sklearn-color-fitted-level-3);\n",
       "}\n",
       "</style><div id=\"sk-container-id-1\" class=\"sk-top-container\"><div class=\"sk-text-repr-fallback\"><pre>IsolationForest(contamination=0.03, random_state=42)</pre><b>In a Jupyter environment, please rerun this cell to show the HTML representation or trust the notebook. <br />On GitHub, the HTML representation is unable to render, please try loading this page with nbviewer.org.</b></div><div class=\"sk-container\" hidden><div class=\"sk-item\"><div class=\"sk-estimator fitted sk-toggleable\"><input class=\"sk-toggleable__control sk-hidden--visually\" id=\"sk-estimator-id-1\" type=\"checkbox\" checked><label for=\"sk-estimator-id-1\" class=\"sk-toggleable__label fitted sk-toggleable__label-arrow fitted\">&nbsp;&nbsp;IsolationForest<a class=\"sk-estimator-doc-link fitted\" rel=\"noreferrer\" target=\"_blank\" href=\"https://scikit-learn.org/1.5/modules/generated/sklearn.ensemble.IsolationForest.html\">?<span>Documentation for IsolationForest</span></a><span class=\"sk-estimator-doc-link fitted\">i<span>Fitted</span></span></label><div class=\"sk-toggleable__content fitted\"><pre>IsolationForest(contamination=0.03, random_state=42)</pre></div> </div></div></div></div>"
      ],
      "text/plain": [
       "IsolationForest(contamination=0.03, random_state=42)"
      ]
     },
     "execution_count": 5,
     "metadata": {},
     "output_type": "execute_result"
    }
   ],
   "source": [
    "# 3. 학습 데이터 준비 (leakage만 사용)\n",
    "X = df_A['leakage'].values.reshape(-1, 1)\n",
    "iso_forest.fit(X)"
   ]
  },
  {
   "cell_type": "code",
   "execution_count": 6,
   "id": "b7094502",
   "metadata": {},
   "outputs": [],
   "source": [
    "# 4. Anomaly 예측\n",
    "anomaly_pred = iso_forest.predict(X)\n",
    "df_A['predicted_anomaly'] = np.where(anomaly_pred == -1, 1, 0)"
   ]
  },
  {
   "cell_type": "code",
   "execution_count": 7,
   "id": "39b1d9a7",
   "metadata": {},
   "outputs": [
    {
     "data": {
      "text/plain": [
       "<Figure size 1500x800 with 0 Axes>"
      ]
     },
     "execution_count": 7,
     "metadata": {},
     "output_type": "execute_result"
    },
    {
     "data": {
      "text/plain": [
       "<Figure size 1500x800 with 0 Axes>"
      ]
     },
     "metadata": {},
     "output_type": "display_data"
    }
   ],
   "source": [
    "# 5. 시각화\n",
    "plt.figure(figsize=(15, 8))"
   ]
  },
  {
   "cell_type": "code",
   "execution_count": 8,
   "id": "b5d6b1bc",
   "metadata": {},
   "outputs": [
    {
     "data": {
      "image/png": "[encoded data removed]",
      "text/plain": [
       "<Figure size 640x480 with 1 Axes>"
      ]
     },
     "metadata": {},
     "output_type": "display_data"
    }
   ],
   "source": [
    "# Leakage 데이터와 예측된/실제 anomaly 플롯\n",
    "plt.plot(df_A.index, df_A['leakage'], 'b-', label='Normal', alpha=0.5)\n",
    "plt.scatter(df_A.index[df_A['predicted_anomaly'] == 1],\n",
    "           df_A['leakage'][df_A['predicted_anomaly'] == 1],\n",
    "           color='red', label='Detected Anomalies')\n",
    "plt.scatter(df_A.index[df_A['anomaly'] == 1],\n",
    "           df_A['leakage'][df_A['anomaly'] == 1],\n",
    "           color='green', marker='*', s=100, label='True Anomalies')\n",
    "plt.title('Leakage Data with Anomalies')\n",
    "plt.legend()\n",
    "plt.tight_layout()\n",
    "plt.show()"
   ]
  },
  {
   "cell_type": "code",
   "execution_count": 9,
   "id": "f453fdf2",
   "metadata": {},
   "outputs": [
    {
     "name": "stdout",
     "output_type": "stream",
     "text": [
      "실제 anomaly 수: 30\n",
      "탐지된 anomaly 수: 1323\n",
      "일치하는 anomaly 수: 30\n",
      "탐지 정확도: 100.00%\n"
     ]
    }
   ],
   "source": [
    "# 6. 성능 평가\n",
    "true_anomalies = df_A[df_A['anomaly'] == 1]\n",
    "detected_anomalies = df_A[df_A['predicted_anomaly'] == 1]\n",
    "matching = df_A[(df_A['anomaly'] == 1) & (df_A['predicted_anomaly'] == 1)]\n",
    "\n",
    "print(f\"실제 anomaly 수: {len(true_anomalies)}\")\n",
    "print(f\"탐지된 anomaly 수: {len(detected_anomalies)}\")\n",
    "print(f\"일치하는 anomaly 수: {len(matching)}\")\n",
    "print(f\"탐지 정확도: {len(matching)/len(true_anomalies)*100:.2f}%\")"
   ]
  },
  {
   "cell_type": "code",
   "execution_count": 10,
   "id": "6eeabef3",
   "metadata": {},
   "outputs": [
    {
     "name": "stdout",
     "output_type": "stream",
     "text": [
      "\n",
      "주요 anomaly 발생 시점:\n",
      "            timestamp   leakage\n",
      "44061  24/06/26 14:21  6002.004\n",
      "44062  24/06/26 14:22  6310.001\n",
      "44063  24/06/26 14:23  6719.001\n",
      "44064  24/06/26 14:24  5627.004\n",
      "44065  24/06/26 14:25  5078.004\n"
     ]
    }
   ],
   "source": [
    "# 7. 주요 anomaly 시점 출력\n",
    "print(\"\\n주요 anomaly 발생 시점:\")\n",
    "print(true_anomalies[['timestamp', 'leakage']].head())"
   ]
  },
  {
   "cell_type": "code",
   "execution_count": 11,
   "id": "4a669ca2",
   "metadata": {},
   "outputs": [],
   "source": [
    "# 4. 예측\n",
    "X = df_positive['leakage'].values.reshape(-1, 1)\n",
    "df_positive['predicted_anomaly'] = np.where(iso_forest.predict(X) == -1, 1, 0)"
   ]
  },
  {
   "cell_type": "code",
   "execution_count": 12,
   "id": "24b87082",
   "metadata": {},
   "outputs": [
    {
     "data": {
      "text/plain": [
       "<Figure size 1500x800 with 0 Axes>"
      ]
     },
     "execution_count": 12,
     "metadata": {},
     "output_type": "execute_result"
    },
    {
     "data": {
      "text/plain": [
       "<Figure size 1500x800 with 0 Axes>"
      ]
     },
     "metadata": {},
     "output_type": "display_data"
    }
   ],
   "source": [
    "# 5. 시각화\n",
    "plt.figure(figsize=(15, 8))"
   ]
  },
  {
   "cell_type": "code",
   "execution_count": 13,
   "id": "9a8ce476",
   "metadata": {},
   "outputs": [
    {
     "data": {
      "image/png": "[encoded data removed]",
      "text/plain": [
       "<Figure size 640x480 with 1 Axes>"
      ]
     },
     "metadata": {},
     "output_type": "display_data"
    }
   ],
   "source": [
    "# 전체 데이터 플롯 (양수 값만)\n",
    "plt.plot(df_positive.index, df_positive['leakage'], \n",
    "         'b-', label='Normal', alpha=0.5)\n",
    "\n",
    "# 탐지된 anomaly 플롯\n",
    "plt.scatter(df_positive.index[df_positive['predicted_anomaly'] == 1],\n",
    "           df_positive['leakage'][df_positive['predicted_anomaly'] == 1],\n",
    "           color='red', label='Detected Anomalies')\n",
    "# 실제 anomaly 플롯\n",
    "plt.scatter(df_positive.index[df_positive['anomaly'] == 1],\n",
    "           df_positive['leakage'][df_positive['anomaly'] == 1],\n",
    "           color='green', marker='*', s=100, label='True Anomalies')\n",
    "\n",
    "plt.title('Leakage Data with Anomalies (Positive Values Only)')\n",
    "plt.legend()\n",
    "plt.tight_layout()\n",
    "plt.show()\n"
   ]
  },
  {
   "cell_type": "code",
   "execution_count": 14,
   "id": "ad205fe7",
   "metadata": {},
   "outputs": [],
   "source": [
    "# 6. 성능 평가\n",
    "true_anomalies = df_positive[df_positive['anomaly'] == 1]\n",
    "detected_anomalies = df_positive[df_positive['predicted_anomaly'] == 1]\n",
    "matching = df_positive[(df_positive['anomaly'] == 1) & \n",
    "                      (df_positive['predicted_anomaly'] == 1)]"
   ]
  },
  {
   "cell_type": "code",
   "execution_count": 15,
   "id": "1002e54c",
   "metadata": {},
   "outputs": [
    {
     "name": "stdout",
     "output_type": "stream",
     "text": [
      "실제 anomaly 수: 30\n",
      "탐지된 anomaly 수: 633\n",
      "일치하는 anomaly 수: 30\n",
      "탐지 정확도: 100.00%\n"
     ]
    }
   ],
   "source": [
    "print(f\"실제 anomaly 수: {len(true_anomalies)}\")\n",
    "print(f\"탐지된 anomaly 수: {len(detected_anomalies)}\")\n",
    "print(f\"일치하는 anomaly 수: {len(matching)}\")\n",
    "print(f\"탐지 정확도: {len(matching)/len(true_anomalies)*100:.2f}%\")"
   ]
  },
  {
   "cell_type": "code",
   "execution_count": 16,
   "id": "b140131e",
   "metadata": {},
   "outputs": [],
   "source": [
    "# predicted_anomaly를 stage1_anomaly로 변경\n",
    "df_positive = df_positive.rename(columns={'predicted_anomaly': 'stage1_anomaly'})"
   ]
  },
  {
   "cell_type": "code",
   "execution_count": 17,
   "id": "d7d53910",
   "metadata": {},
   "outputs": [],
   "source": [
    "# 1단계에서 필터링된 데이터 선택\n",
    "filtered_df = df_positive[df_positive['stage1_anomaly'] == 1].copy()"
   ]
  },
  {
   "cell_type": "markdown",
   "id": "d6ff83a6",
   "metadata": {},
   "source": [
    "## 2단계  Iso Pi  패턴 감지"
   ]
  },
  {
   "cell_type": "markdown",
   "id": "1c54069a",
   "metadata": {},
   "source": [
    "## 전처리"
   ]
  },
  {
   "cell_type": "code",
   "execution_count": 20,
   "id": "5b8ef8ca",
   "metadata": {},
   "outputs": [],
   "source": [
    "def preprocessing(df, pressure_cols, ema_span=20):\n",
    "    preprocessed_features = {}\n",
    "    \n",
    "    for col in pressure_cols:\n",
    "        # 1. EMA로 노이즈 제거\n",
    "        ema = df[col].ewm(span=ema_span, adjust=False).mean()\n",
    "        \n",
    "        # 2. 하락 구간 식별\n",
    "        gradient = ema.diff()\n",
    "        drop_mask = gradient < 0\n",
    "        \n",
    "        # 3. 하락 구간 특성 추출\n",
    "        # 하락 기간: 연속된 하락 구간의 길이\n",
    "        drop_duration = pd.Series(0, index=df.index)\n",
    "        duration_count = 0\n",
    "        for i, is_dropping in enumerate(drop_mask):\n",
    "            if is_dropping:\n",
    "                duration_count += 1\n",
    "            else:\n",
    "                duration_count = 0\n",
    "            drop_duration.iloc[i] = duration_count\n",
    "        \n",
    "        # 하락 폭: 시작점 대비 현재 하락량\n",
    "        drop_magnitude = pd.Series(0.0, index=df.index)\n",
    "        start_value = ema.iloc[0]\n",
    "        for i, is_dropping in enumerate(drop_mask):\n",
    "            if is_dropping:\n",
    "                drop_magnitude.iloc[i] = start_value - ema.iloc[i]\n",
    "            else:\n",
    "                start_value = ema.iloc[i]\n",
    "        \n",
    "        # 하락 속도: gradient의 크기\n",
    "        drop_speed = gradient.abs() * drop_mask\n",
    "        \n",
    "        # 결과 저장\n",
    "        preprocessed_features[f'{col}_ema'] = ema\n",
    "        preprocessed_features[f'{col}_drop_duration'] = drop_duration\n",
    "        preprocessed_features[f'{col}_drop_magnitude'] = drop_magnitude\n",
    "        preprocessed_features[f'{col}_drop_speed'] = drop_speed\n",
    "        \n",
    "    return pd.DataFrame(preprocessed_features, index=df.index)"
   ]
  },
  {
   "cell_type": "code",
   "execution_count": 21,
   "id": "2f34cc38",
   "metadata": {},
   "outputs": [],
   "source": [
    "# 전처리 적용\n",
    "pressure_cols = [f'P{i}' for i in range(1, 27)]\n",
    "preprocessed_df = preprocessing(df_A, pressure_cols)"
   ]
  },
  {
   "cell_type": "code",
   "execution_count": 22,
   "id": "8b24777d",
   "metadata": {},
   "outputs": [],
   "source": [
    "def detect_pressure_anomalies_stage2(preprocessed_df, pressure_cols, contamination=0.1):\n",
    "    drop_features = []\n",
    "    for col in pressure_cols:\n",
    "        drop_features.extend([\n",
    "            f'{col}_drop_duration',\n",
    "            f'{col}_drop_magnitude',\n",
    "            f'{col}_drop_speed'\n",
    "        ])\n",
    "    \n",
    "    features_df = preprocessed_df[drop_features].fillna(0)\n",
    "    \n",
    "    iso = IsolationForest(\n",
    "        contamination=contamination,\n",
    "        random_state=42,\n",
    "        n_estimators=100\n",
    "    )\n",
    "    \n",
    "    scaler = StandardScaler()\n",
    "    X_scaled = scaler.fit_transform(features_df)\n",
    "    \n",
    "    predictions = iso.fit_predict(X_scaled)\n",
    "    anomalies = np.where(predictions == -1, 1, 0)\n",
    "    \n",
    "    results = pd.DataFrame(index=preprocessed_df.index)\n",
    "    results['stage2_anomaly'] = anomalies\n",
    "    \n",
    "    return results"
   ]
  },
  {
   "cell_type": "code",
   "execution_count": 23,
   "id": "eb1c0afe",
   "metadata": {},
   "outputs": [],
   "source": [
    "# 2단계 모델 적용\n",
    "stage2_results = detect_pressure_anomalies_stage2(preprocessed_df, pressure_cols)"
   ]
  },
  {
   "cell_type": "code",
   "execution_count": 25,
   "id": "cde0d7d8",
   "metadata": {},
   "outputs": [
    {
     "name": "stdout",
     "output_type": "stream",
     "text": [
      "=== Stage 2 Anomaly 평가 결과 ===\n",
      "실제 Anomaly 수: 30\n",
      "예측된 Anomaly 수: 4410\n",
      "일치하는 Anomaly 수: 28\n",
      "탐지 정확도: 93.33%\n"
     ]
    }
   ],
   "source": [
    "# Stage 2 Anomaly 평가\n",
    "true_anomalies = df_A[df_A['anomaly'] == 1]\n",
    "predicted_anomalies = stage2_results[stage2_results['stage2_anomaly'] == 1]\n",
    "matching_anomalies = len(set(true_anomalies.index) & set(predicted_anomalies.index))\n",
    "\n",
    "print(\"=== Stage 2 Anomaly 평가 결과 ===\")\n",
    "print(f\"실제 Anomaly 수: {len(true_anomalies)}\")\n",
    "print(f\"예측된 Anomaly 수: {len(predicted_anomalies)}\")\n",
    "print(f\"일치하는 Anomaly 수: {matching_anomalies}\")\n",
    "print(f\"탐지 정확도: {matching_anomalies/len(true_anomalies)*100:.2f}%\")\n"
   ]
  },
  {
   "cell_type": "code",
   "execution_count": 29,
   "id": "fe02e49f",
   "metadata": {},
   "outputs": [],
   "source": [
    "# 1단계와 2단계 결과 결합\n",
    "final_results = pd.DataFrame(index=df_A.index)\n",
    "final_results['stage1_anomaly'] = 0\n",
    "final_results.loc[df_positive.index, 'stage1_anomaly'] = df_positive['stage1_anomaly']\n",
    "final_results['stage2_anomaly'] = stage2_results['stage2_anomaly']\n",
    "\n",
    "# AND 연산으로 두 단계에서 모두 anomaly로 예측된 경우만 선택\n",
    "final_results['final_anomaly'] = ((final_results['stage1_anomaly'] == 1) & \n",
    "                                 (final_results['stage2_anomaly'] == 1)).astype(int)"
   ]
  },
  {
   "cell_type": "code",
   "execution_count": 30,
   "id": "1aa7f944",
   "metadata": {},
   "outputs": [],
   "source": [
    "# 평가\n",
    "true_anomalies = df_A[df_A['anomaly'] == 1]\n",
    "stage1_predicted = final_results[final_results['stage1_anomaly'] == 1]\n",
    "stage2_predicted = final_results[final_results['stage2_anomaly'] == 1]\n",
    "final_predicted = final_results[final_results['final_anomaly'] == 1]\n"
   ]
  },
  {
   "cell_type": "code",
   "execution_count": 31,
   "id": "65615a9c",
   "metadata": {},
   "outputs": [
    {
     "name": "stdout",
     "output_type": "stream",
     "text": [
      "=== 단계별 Anomaly 평가 결과 ===\n",
      "\n",
      "Stage 1:\n",
      "예측된 Anomaly 수: 633\n",
      "일치하는 Anomaly 수: 30\n",
      "\n",
      "Stage 2:\n",
      "예측된 Anomaly 수: 4410\n",
      "일치하는 Anomaly 수: 28\n",
      "\n",
      "Final (Stage 1 & 2 교집합):\n",
      "실제 Anomaly 수: 30\n",
      "예측된 Anomaly 수: 95\n",
      "일치하는 Anomaly 수: 28\n",
      "탐지 정확도: 93.33%\n"
     ]
    }
   ],
   "source": [
    "# 각 단계별 매칭 확인\n",
    "stage1_matching = len(set(true_anomalies.index) & set(stage1_predicted.index))\n",
    "stage2_matching = len(set(true_anomalies.index) & set(stage2_predicted.index))\n",
    "final_matching = len(set(true_anomalies.index) & set(final_predicted.index))\n",
    "\n",
    "print(\"=== 단계별 Anomaly 평가 결과 ===\")\n",
    "print(\"\\nStage 1:\")\n",
    "print(f\"예측된 Anomaly 수: {len(stage1_predicted)}\")\n",
    "print(f\"일치하는 Anomaly 수: {stage1_matching}\")\n",
    "\n",
    "print(\"\\nStage 2:\")\n",
    "print(f\"예측된 Anomaly 수: {len(stage2_predicted)}\")\n",
    "print(f\"일치하는 Anomaly 수: {stage2_matching}\")\n",
    "\n",
    "print(\"\\nFinal (Stage 1 & 2 교집합):\")\n",
    "print(f\"실제 Anomaly 수: {len(true_anomalies)}\")\n",
    "print(f\"예측된 Anomaly 수: {len(final_predicted)}\")\n",
    "print(f\"일치하는 Anomaly 수: {final_matching}\")\n",
    "print(f\"탐지 정확도: {final_matching/len(true_anomalies)*100:.2f}%\")"
   ]
  },
  {
   "cell_type": "markdown",
   "id": "c56168b8",
   "metadata": {},
   "source": [
    "Anomaly 기간을 30개 전후로 제한\n",
    "연속된 압력계의 동시 하락 패턴 강화\n",
    "하락 지속 기간이 최소 10 이상인 경우만 고려\n",
    "너무 긴 이상 기간(50 초과)은 제외하여 false positive 감소\n",
    "이러한 수정을 통해 세 번째와 네 번째 이미지에서 보이는 것처럼 P7-P9의 연속적인 하락 패턴을 더 정확하게 포착할 수 있습니다."
   ]
  },
  {
   "cell_type": "code",
   "execution_count": null,
   "id": "89a16238",
   "metadata": {},
   "outputs": [],
   "source": []
  }
 ],
 "metadata": {
  "kernelspec": {
   "display_name": "Python 3 (ipykernel)",
   "language": "python",
   "name": "python3"
  },
  "language_info": {
   "codemirror_mode": {
    "name": "ipython",
    "version": 3
   },
   "file_extension": ".py",
   "mimetype": "text/x-python",
   "name": "python",
   "nbconvert_exporter": "python",
   "pygments_lexer": "ipython3",
   "version": "3.11.5"
  }
 },
 "nbformat": 4,
 "nbformat_minor": 5
}
