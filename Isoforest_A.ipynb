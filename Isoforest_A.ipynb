{
 "cells": [
  {
   "cell_type": "markdown",
   "id": "7dbdfd48-353d-4379-befd-03260c544b49",
   "metadata": {},
   "source": [
    "# 데이콘 이상탐지 데이터 분석\n",
    "---"
   ]
  },
  {
   "cell_type": "code",
   "execution_count": 1,
   "id": "1a3c1a2e",
   "metadata": {},
   "outputs": [
    {
     "name": "stdout",
     "output_type": "stream",
     "text": [
      "Requirement already satisfied: matplotlib in c:\\users\\leonk\\anaconda3\\lib\\site-packages (3.9.3)\n",
      "Requirement already satisfied: contourpy>=1.0.1 in c:\\users\\leonk\\anaconda3\\lib\\site-packages (from matplotlib) (1.3.1)\n",
      "Requirement already satisfied: cycler>=0.10 in c:\\users\\leonk\\anaconda3\\lib\\site-packages (from matplotlib) (0.12.1)\n",
      "Requirement already satisfied: fonttools>=4.22.0 in c:\\users\\leonk\\anaconda3\\lib\\site-packages (from matplotlib) (4.25.0)\n",
      "Requirement already satisfied: kiwisolver>=1.3.1 in c:\\users\\leonk\\anaconda3\\lib\\site-packages (from matplotlib) (1.4.4)\n",
      "Requirement already satisfied: numpy>=1.23 in c:\\users\\leonk\\anaconda3\\lib\\site-packages (from matplotlib) (1.24.4)\n",
      "Requirement already satisfied: packaging>=20.0 in c:\\users\\leonk\\anaconda3\\lib\\site-packages (from matplotlib) (23.1)\n",
      "Requirement already satisfied: pillow>=8 in c:\\users\\leonk\\anaconda3\\lib\\site-packages (from matplotlib) (9.4.0)\n",
      "Requirement already satisfied: pyparsing>=2.3.1 in c:\\users\\leonk\\anaconda3\\lib\\site-packages (from matplotlib) (3.0.9)\n",
      "Requirement already satisfied: python-dateutil>=2.7 in c:\\users\\leonk\\anaconda3\\lib\\site-packages (from matplotlib) (2.8.2)\n",
      "Requirement already satisfied: six>=1.5 in c:\\users\\leonk\\anaconda3\\lib\\site-packages (from python-dateutil>=2.7->matplotlib) (1.16.0)\n"
     ]
    },
    {
     "name": "stderr",
     "output_type": "stream",
     "text": [
      "WARNING: Ignoring invalid distribution ~atplotlib (C:\\Users\\leonk\\anaconda3\\Lib\\site-packages)\n",
      "WARNING: Ignoring invalid distribution ~atplotlib (C:\\Users\\leonk\\anaconda3\\Lib\\site-packages)\n",
      "WARNING: Ignoring invalid distribution ~atplotlib (C:\\Users\\leonk\\anaconda3\\Lib\\site-packages)\n"
     ]
    }
   ],
   "source": [
    "!pip install --upgrade matplotlib"
   ]
  },
  {
   "cell_type": "code",
   "execution_count": 2,
   "id": "ffb6f665-d144-4dc2-9003-7a492e586fd5",
   "metadata": {},
   "outputs": [],
   "source": [
    "def detect_pressure_anomalies(df, pressure_col, n_neighbors=30, contamination=0.1, window_size=5):\n",
    "    # 압력계 데이터만 사용\n",
    "    pressure_data = df[[pressure_col]].copy()\n",
    "    \n",
    "    # 하락 패턴 특성 생성 및 NaN 처리\n",
    "    pressure_data['diff'] = pressure_data[pressure_col].diff().fillna(method='bfill')\n",
    "    \n",
    "    # 이동평균과 표준편차 계산 (NaN 처리 포함)\n",
    "    pressure_data['rolling_mean'] = (pressure_data[pressure_col]\n",
    "                                   .rolling(window=window_size, min_periods=1)\n",
    "                                   .mean()\n",
    "                                   .fillna(method='bfill'))\n",
    "    \n",
    "    pressure_data['rolling_std'] = (pressure_data[pressure_col]\n",
    "                                  .rolling(window=window_size, min_periods=1)\n",
    "                                  .std()\n",
    "                                  .fillna(method='bfill'))\n",
    "    \n",
    "    # 하락 구간만 필터링 (diff < 0)\n",
    "    drop_mask = pressure_data['diff'] < 0\n",
    "    drop_data = pressure_data[drop_mask].copy()\n",
    "    \n",
    "    if len(drop_data) == 0:\n",
    "        return np.zeros(len(df))\n",
    "    \n",
    "    # NaN이 없는지 최종 확인\n",
    "    X = drop_data[[pressure_col, 'diff', 'rolling_mean', 'rolling_std']].values\n",
    "    if np.isnan(X).any():\n",
    "        X = np.nan_to_num(X, nan=0)  # 남은 NaN을 0으로 대체\n",
    "    \n",
    "    scaler = StandardScaler()\n",
    "    X_scaled = scaler.fit_transform(X)\n",
    "    \n",
    "    lof = LocalOutlierFactor(\n",
    "        n_neighbors=min(n_neighbors, len(X_scaled)-1),\n",
    "        contamination=contamination,\n",
    "        novelty=False,\n",
    "        metric='euclidean'\n",
    "    )\n",
    "    \n",
    "    predictions = np.zeros(len(df))\n",
    "    drop_indices = pressure_data[drop_mask].index\n",
    "    predictions[drop_indices] = lof.fit_predict(X_scaled)\n",
    "    \n",
    "    return np.where(predictions == -1, 1, 0)"
   ]
  },
  {
   "attachments": {
    "0d4aa0d3-4a4f-4970-8ed7-24754938b54c.jpg": {
     "image/jpeg": "[encoded data removed]"
    }
   },
   "cell_type": "markdown",
   "id": "a7ae729e-fc58-41aa-bcd4-322705c0b154",
   "metadata": {},
   "source": [
    "![관망구조_A.jpg](attachment:0d4aa0d3-4a4f-4970-8ed7-24754938b54c.jpg)"
   ]
  },
  {
   "cell_type": "code",
   "execution_count": 3,
   "id": "1cee7ede",
   "metadata": {},
   "outputs": [],
   "source": [
    "#밸브 개도율 압력계: p7, p10,p11,p13,p14,p15,p16,p18,p19,p20,p21,p22,p23"
   ]
  },
  {
   "cell_type": "markdown",
   "id": "fc25783d",
   "metadata": {},
   "source": [
    "# M7펌프가 24/06/26 05:58 1에서 0으로 변함\n",
    "# 압력계가 비정상이되면 14:20-부터 급격히 떨어지다가 정상화된 14:50부터 다시 올라감\n",
    "- P가 anomaly 관측에 주요 변수로 보임(P8)\n",
    "- 밸브 개도율 수시 변동과 p8 p9 사이 상관관계 가능\n",
    "- Q4는 굉장히 중요한 변수다\n",
    "- Q5가 완전 음에서 완전 양으로 바뀐다\n",
    "- p7하고 q4가 상관관계 -1에 가까워 q4와 p7사이에 밸브는 개도율이 수시로 변동한다 \n",
    "- p7이 압력이 높아졌을 때 밸브를 닫아서 q4의 유량이 감소했을 가능성이 있음\n",
    "- 베르누이 원리에 의해서 정상상태에서는 유량과 압력이 음의 상관관계다\n",
    "- 근데 anomaly상황에서 q5에서 양의 상관관계다\n",
    "Anomaly 상황에서 유량과 압력이 양의 상관관계를 보이는 것은 시스템에 비정상적인 상태가 발생했음을 시사합니다. 이는 다음과 같은 상황을 나타낼 수 있습니다:\n",
    "누수 발생: 파이프라인에 누수가 발생하면, 압력이 증가함에 따라 누수 지점을 통한 유량도 증가할 수 있습니다2. 이는 정상적인 흐름과는 다른 패턴을 보이게 됩니다.\n",
    "막힘 현상: 파이프라인에 부분적인 막힘이 발생하면, 압력이 증가하면서 동시에 유량도 증가할 수 있습니다. 이는 막힘을 통과하기 위해 더 높은 압력이 필요하기 때문입니다2.\n",
    "펌프 오작동: 시스템 내 펌프가 비정상적으로 작동하면, 압력과 유량이 동시에 증가하는 현상이 나타날 수 있습니다3.\n",
    "밸브 오작동: 제어 밸브가 제대로 작동하지 않으면, 압력과 유량 사이의 정상적인 관계가 무너질 수 있습니다.\n",
    "결론\n",
    "이러한 관찰 결과는 시스템의 정상 상태와 비정상 상태를 구분하는 중요한 지표가 될 수 있습니다4. 유량과 압력 사이의 관계가 갑자기 변화하는 것은 시스템에 문제가 발생했음을 나타내는 신호일 수 있으며, 이를 통해 조기에 문제를 감지하고 대응할 수 있습니다. 따라서 이러한 패턴 변화를 모니터링하는 것은 수도 공급 시스템의 효율적인 관리와 유지보수에 매우 중요합니다5."
   ]
  },
  {
   "cell_type": "markdown",
   "id": "c744446e-3470-46ef-862f-f55b9fa0bd48",
   "metadata": {},
   "source": [
    "# 데이터 정보"
   ]
  },
  {
   "cell_type": "code",
   "execution_count": 4,
   "id": "3d383d19-25bb-4bcb-ab1e-aa7e6ba1a4d4",
   "metadata": {},
   "outputs": [
    {
     "name": "stdout",
     "output_type": "stream",
     "text": [
      "Index(['timestamp', 'Q1', 'Q2', 'Q3', 'Q4', 'Q5', 'M1', 'M2', 'M3', 'M4', 'M5',\n",
      "       'M6', 'M7', 'M8', 'M9', 'M10', 'M11', 'M12', 'M13', 'M14', 'P1', 'P2',\n",
      "       'P3', 'P4', 'P5', 'P6', 'P7', 'P8', 'P9', 'P10', 'P11', 'P12', 'P13',\n",
      "       'P14', 'P15', 'P16', 'P17', 'P18', 'P19', 'P20', 'P21', 'P22', 'P23',\n",
      "       'P24', 'P25', 'P26', 'anomaly', 'P1_flag', 'P2_flag', 'P3_flag',\n",
      "       'P4_flag', 'P5_flag', 'P6_flag', 'P7_flag', 'P8_flag', 'P9_flag',\n",
      "       'P10_flag', 'P11_flag', 'P12_flag', 'P13_flag', 'P14_flag', 'P15_flag',\n",
      "       'P16_flag', 'P17_flag', 'P18_flag', 'P19_flag', 'P20_flag', 'P21_flag',\n",
      "       'P22_flag', 'P23_flag', 'P24_flag', 'P25_flag', 'P26_flag'],\n",
      "      dtype='object')\n",
      "칼럼 수 :  73\n",
      "차원 :  (44101, 73)\n"
     ]
    }
   ],
   "source": [
    "df_A = pd.read_csv(\"TRAIN_A.csv\")\n",
    "\n",
    "print(df_A.columns)\n",
    "print(\"칼럼 수 : \",len(df_A.columns))\n",
    "print(\"차원 : \",df_A.shape)\n",
    "\n",
    "\n",
    "# 새로운 열 생성: Q5 - (Q1 + Q2 + Q3 + Q4)\n",
    "df_A['leakage'] = df_A['Q1'] + df_A['Q2'] + df_A['Q3'] + df_A['Q4'] - df_A['Q5']\n",
    "#df_A['leakage_diff'] = df_A['leakage'].diff()"
   ]
  },
  {
   "cell_type": "code",
   "execution_count": 5,
   "id": "3299883c",
   "metadata": {},
   "outputs": [],
   "source": [
    "# 2. Isolation Forest 모델 정의\n",
    "iso_forest = IsolationForest(\n",
    "    contamination=0.01,  # anomaly 비율\n",
    "    random_state=42,\n",
    "    n_estimators=100\n",
    ")"
   ]
  },
  {
   "cell_type": "code",
   "execution_count": 6,
   "id": "dc0d05d5",
   "metadata": {},
   "outputs": [
    {
     "data": {
      "text/html": [
       "<style>#sk-container-id-1 {\n",
       "  /* Definition of color scheme common for light and dark mode */\n",
       "  --sklearn-color-text: black;\n",
       "  --sklearn-color-line: gray;\n",
       "  /* Definition of color scheme for unfitted estimators */\n",
       "  --sklearn-color-unfitted-level-0: #fff5e6;\n",
       "  --sklearn-color-unfitted-level-1: #f6e4d2;\n",
       "  --sklearn-color-unfitted-level-2: #ffe0b3;\n",
       "  --sklearn-color-unfitted-level-3: chocolate;\n",
       "  /* Definition of color scheme for fitted estimators */\n",
       "  --sklearn-color-fitted-level-0: #f0f8ff;\n",
       "  --sklearn-color-fitted-level-1: #d4ebff;\n",
       "  --sklearn-color-fitted-level-2: #b3dbfd;\n",
       "  --sklearn-color-fitted-level-3: cornflowerblue;\n",
       "\n",
       "  /* Specific color for light theme */\n",
       "  --sklearn-color-text-on-default-background: var(--sg-text-color, var(--theme-code-foreground, var(--jp-content-font-color1, black)));\n",
       "  --sklearn-color-background: var(--sg-background-color, var(--theme-background, var(--jp-layout-color0, white)));\n",
       "  --sklearn-color-border-box: var(--sg-text-color, var(--theme-code-foreground, var(--jp-content-font-color1, black)));\n",
       "  --sklearn-color-icon: #696969;\n",
       "\n",
       "  @media (prefers-color-scheme: dark) {\n",
       "    /* Redefinition of color scheme for dark theme */\n",
       "    --sklearn-color-text-on-default-background: var(--sg-text-color, var(--theme-code-foreground, var(--jp-content-font-color1, white)));\n",
       "    --sklearn-color-background: var(--sg-background-color, var(--theme-background, var(--jp-layout-color0, #111)));\n",
       "    --sklearn-color-border-box: var(--sg-text-color, var(--theme-code-foreground, var(--jp-content-font-color1, white)));\n",
       "    --sklearn-color-icon: #878787;\n",
       "  }\n",
       "}\n",
       "\n",
       "#sk-container-id-1 {\n",
       "  color: var(--sklearn-color-text);\n",
       "}\n",
       "\n",
       "#sk-container-id-1 pre {\n",
       "  padding: 0;\n",
       "}\n",
       "\n",
       "#sk-container-id-1 input.sk-hidden--visually {\n",
       "  border: 0;\n",
       "  clip: rect(1px 1px 1px 1px);\n",
       "  clip: rect(1px, 1px, 1px, 1px);\n",
       "  height: 1px;\n",
       "  margin: -1px;\n",
       "  overflow: hidden;\n",
       "  padding: 0;\n",
       "  position: absolute;\n",
       "  width: 1px;\n",
       "}\n",
       "\n",
       "#sk-container-id-1 div.sk-dashed-wrapped {\n",
       "  border: 1px dashed var(--sklearn-color-line);\n",
       "  margin: 0 0.4em 0.5em 0.4em;\n",
       "  box-sizing: border-box;\n",
       "  padding-bottom: 0.4em;\n",
       "  background-color: var(--sklearn-color-background);\n",
       "}\n",
       "\n",
       "#sk-container-id-1 div.sk-container {\n",
       "  /* jupyter's `normalize.less` sets `[hidden] { display: none; }`\n",
       "     but bootstrap.min.css set `[hidden] { display: none !important; }`\n",
       "     so we also need the `!important` here to be able to override the\n",
       "     default hidden behavior on the sphinx rendered scikit-learn.org.\n",
       "     See: https://github.com/scikit-learn/scikit-learn/issues/21755 */\n",
       "  display: inline-block !important;\n",
       "  position: relative;\n",
       "}\n",
       "\n",
       "#sk-container-id-1 div.sk-text-repr-fallback {\n",
       "  display: none;\n",
       "}\n",
       "\n",
       "div.sk-parallel-item,\n",
       "div.sk-serial,\n",
       "div.sk-item {\n",
       "  /* draw centered vertical line to link estimators */\n",
       "  background-image: linear-gradient(var(--sklearn-color-text-on-default-background), var(--sklearn-color-text-on-default-background));\n",
       "  background-size: 2px 100%;\n",
       "  background-repeat: no-repeat;\n",
       "  background-position: center center;\n",
       "}\n",
       "\n",
       "/* Parallel-specific style estimator block */\n",
       "\n",
       "#sk-container-id-1 div.sk-parallel-item::after {\n",
       "  content: \"\";\n",
       "  width: 100%;\n",
       "  border-bottom: 2px solid var(--sklearn-color-text-on-default-background);\n",
       "  flex-grow: 1;\n",
       "}\n",
       "\n",
       "#sk-container-id-1 div.sk-parallel {\n",
       "  display: flex;\n",
       "  align-items: stretch;\n",
       "  justify-content: center;\n",
       "  background-color: var(--sklearn-color-background);\n",
       "  position: relative;\n",
       "}\n",
       "\n",
       "#sk-container-id-1 div.sk-parallel-item {\n",
       "  display: flex;\n",
       "  flex-direction: column;\n",
       "}\n",
       "\n",
       "#sk-container-id-1 div.sk-parallel-item:first-child::after {\n",
       "  align-self: flex-end;\n",
       "  width: 50%;\n",
       "}\n",
       "\n",
       "#sk-container-id-1 div.sk-parallel-item:last-child::after {\n",
       "  align-self: flex-start;\n",
       "  width: 50%;\n",
       "}\n",
       "\n",
       "#sk-container-id-1 div.sk-parallel-item:only-child::after {\n",
       "  width: 0;\n",
       "}\n",
       "\n",
       "/* Serial-specific style estimator block */\n",
       "\n",
       "#sk-container-id-1 div.sk-serial {\n",
       "  display: flex;\n",
       "  flex-direction: column;\n",
       "  align-items: center;\n",
       "  background-color: var(--sklearn-color-background);\n",
       "  padding-right: 1em;\n",
       "  padding-left: 1em;\n",
       "}\n",
       "\n",
       "\n",
       "/* Toggleable style: style used for estimator/Pipeline/ColumnTransformer box that is\n",
       "clickable and can be expanded/collapsed.\n",
       "- Pipeline and ColumnTransformer use this feature and define the default style\n",
       "- Estimators will overwrite some part of the style using the `sk-estimator` class\n",
       "*/\n",
       "\n",
       "/* Pipeline and ColumnTransformer style (default) */\n",
       "\n",
       "#sk-container-id-1 div.sk-toggleable {\n",
       "  /* Default theme specific background. It is overwritten whether we have a\n",
       "  specific estimator or a Pipeline/ColumnTransformer */\n",
       "  background-color: var(--sklearn-color-background);\n",
       "}\n",
       "\n",
       "/* Toggleable label */\n",
       "#sk-container-id-1 label.sk-toggleable__label {\n",
       "  cursor: pointer;\n",
       "  display: block;\n",
       "  width: 100%;\n",
       "  margin-bottom: 0;\n",
       "  padding: 0.5em;\n",
       "  box-sizing: border-box;\n",
       "  text-align: center;\n",
       "}\n",
       "\n",
       "#sk-container-id-1 label.sk-toggleable__label-arrow:before {\n",
       "  /* Arrow on the left of the label */\n",
       "  content: \"▸\";\n",
       "  float: left;\n",
       "  margin-right: 0.25em;\n",
       "  color: var(--sklearn-color-icon);\n",
       "}\n",
       "\n",
       "#sk-container-id-1 label.sk-toggleable__label-arrow:hover:before {\n",
       "  color: var(--sklearn-color-text);\n",
       "}\n",
       "\n",
       "/* Toggleable content - dropdown */\n",
       "\n",
       "#sk-container-id-1 div.sk-toggleable__content {\n",
       "  max-height: 0;\n",
       "  max-width: 0;\n",
       "  overflow: hidden;\n",
       "  text-align: left;\n",
       "  /* unfitted */\n",
       "  background-color: var(--sklearn-color-unfitted-level-0);\n",
       "}\n",
       "\n",
       "#sk-container-id-1 div.sk-toggleable__content.fitted {\n",
       "  /* fitted */\n",
       "  background-color: var(--sklearn-color-fitted-level-0);\n",
       "}\n",
       "\n",
       "#sk-container-id-1 div.sk-toggleable__content pre {\n",
       "  margin: 0.2em;\n",
       "  border-radius: 0.25em;\n",
       "  color: var(--sklearn-color-text);\n",
       "  /* unfitted */\n",
       "  background-color: var(--sklearn-color-unfitted-level-0);\n",
       "}\n",
       "\n",
       "#sk-container-id-1 div.sk-toggleable__content.fitted pre {\n",
       "  /* unfitted */\n",
       "  background-color: var(--sklearn-color-fitted-level-0);\n",
       "}\n",
       "\n",
       "#sk-container-id-1 input.sk-toggleable__control:checked~div.sk-toggleable__content {\n",
       "  /* Expand drop-down */\n",
       "  max-height: 200px;\n",
       "  max-width: 100%;\n",
       "  overflow: auto;\n",
       "}\n",
       "\n",
       "#sk-container-id-1 input.sk-toggleable__control:checked~label.sk-toggleable__label-arrow:before {\n",
       "  content: \"▾\";\n",
       "}\n",
       "\n",
       "/* Pipeline/ColumnTransformer-specific style */\n",
       "\n",
       "#sk-container-id-1 div.sk-label input.sk-toggleable__control:checked~label.sk-toggleable__label {\n",
       "  color: var(--sklearn-color-text);\n",
       "  background-color: var(--sklearn-color-unfitted-level-2);\n",
       "}\n",
       "\n",
       "#sk-container-id-1 div.sk-label.fitted input.sk-toggleable__control:checked~label.sk-toggleable__label {\n",
       "  background-color: var(--sklearn-color-fitted-level-2);\n",
       "}\n",
       "\n",
       "/* Estimator-specific style */\n",
       "\n",
       "/* Colorize estimator box */\n",
       "#sk-container-id-1 div.sk-estimator input.sk-toggleable__control:checked~label.sk-toggleable__label {\n",
       "  /* unfitted */\n",
       "  background-color: var(--sklearn-color-unfitted-level-2);\n",
       "}\n",
       "\n",
       "#sk-container-id-1 div.sk-estimator.fitted input.sk-toggleable__control:checked~label.sk-toggleable__label {\n",
       "  /* fitted */\n",
       "  background-color: var(--sklearn-color-fitted-level-2);\n",
       "}\n",
       "\n",
       "#sk-container-id-1 div.sk-label label.sk-toggleable__label,\n",
       "#sk-container-id-1 div.sk-label label {\n",
       "  /* The background is the default theme color */\n",
       "  color: var(--sklearn-color-text-on-default-background);\n",
       "}\n",
       "\n",
       "/* On hover, darken the color of the background */\n",
       "#sk-container-id-1 div.sk-label:hover label.sk-toggleable__label {\n",
       "  color: var(--sklearn-color-text);\n",
       "  background-color: var(--sklearn-color-unfitted-level-2);\n",
       "}\n",
       "\n",
       "/* Label box, darken color on hover, fitted */\n",
       "#sk-container-id-1 div.sk-label.fitted:hover label.sk-toggleable__label.fitted {\n",
       "  color: var(--sklearn-color-text);\n",
       "  background-color: var(--sklearn-color-fitted-level-2);\n",
       "}\n",
       "\n",
       "/* Estimator label */\n",
       "\n",
       "#sk-container-id-1 div.sk-label label {\n",
       "  font-family: monospace;\n",
       "  font-weight: bold;\n",
       "  display: inline-block;\n",
       "  line-height: 1.2em;\n",
       "}\n",
       "\n",
       "#sk-container-id-1 div.sk-label-container {\n",
       "  text-align: center;\n",
       "}\n",
       "\n",
       "/* Estimator-specific */\n",
       "#sk-container-id-1 div.sk-estimator {\n",
       "  font-family: monospace;\n",
       "  border: 1px dotted var(--sklearn-color-border-box);\n",
       "  border-radius: 0.25em;\n",
       "  box-sizing: border-box;\n",
       "  margin-bottom: 0.5em;\n",
       "  /* unfitted */\n",
       "  background-color: var(--sklearn-color-unfitted-level-0);\n",
       "}\n",
       "\n",
       "#sk-container-id-1 div.sk-estimator.fitted {\n",
       "  /* fitted */\n",
       "  background-color: var(--sklearn-color-fitted-level-0);\n",
       "}\n",
       "\n",
       "/* on hover */\n",
       "#sk-container-id-1 div.sk-estimator:hover {\n",
       "  /* unfitted */\n",
       "  background-color: var(--sklearn-color-unfitted-level-2);\n",
       "}\n",
       "\n",
       "#sk-container-id-1 div.sk-estimator.fitted:hover {\n",
       "  /* fitted */\n",
       "  background-color: var(--sklearn-color-fitted-level-2);\n",
       "}\n",
       "\n",
       "/* Specification for estimator info (e.g. \"i\" and \"?\") */\n",
       "\n",
       "/* Common style for \"i\" and \"?\" */\n",
       "\n",
       ".sk-estimator-doc-link,\n",
       "a:link.sk-estimator-doc-link,\n",
       "a:visited.sk-estimator-doc-link {\n",
       "  float: right;\n",
       "  font-size: smaller;\n",
       "  line-height: 1em;\n",
       "  font-family: monospace;\n",
       "  background-color: var(--sklearn-color-background);\n",
       "  border-radius: 1em;\n",
       "  height: 1em;\n",
       "  width: 1em;\n",
       "  text-decoration: none !important;\n",
       "  margin-left: 1ex;\n",
       "  /* unfitted */\n",
       "  border: var(--sklearn-color-unfitted-level-1) 1pt solid;\n",
       "  color: var(--sklearn-color-unfitted-level-1);\n",
       "}\n",
       "\n",
       ".sk-estimator-doc-link.fitted,\n",
       "a:link.sk-estimator-doc-link.fitted,\n",
       "a:visited.sk-estimator-doc-link.fitted {\n",
       "  /* fitted */\n",
       "  border: var(--sklearn-color-fitted-level-1) 1pt solid;\n",
       "  color: var(--sklearn-color-fitted-level-1);\n",
       "}\n",
       "\n",
       "/* On hover */\n",
       "div.sk-estimator:hover .sk-estimator-doc-link:hover,\n",
       ".sk-estimator-doc-link:hover,\n",
       "div.sk-label-container:hover .sk-estimator-doc-link:hover,\n",
       ".sk-estimator-doc-link:hover {\n",
       "  /* unfitted */\n",
       "  background-color: var(--sklearn-color-unfitted-level-3);\n",
       "  color: var(--sklearn-color-background);\n",
       "  text-decoration: none;\n",
       "}\n",
       "\n",
       "div.sk-estimator.fitted:hover .sk-estimator-doc-link.fitted:hover,\n",
       ".sk-estimator-doc-link.fitted:hover,\n",
       "div.sk-label-container:hover .sk-estimator-doc-link.fitted:hover,\n",
       ".sk-estimator-doc-link.fitted:hover {\n",
       "  /* fitted */\n",
       "  background-color: var(--sklearn-color-fitted-level-3);\n",
       "  color: var(--sklearn-color-background);\n",
       "  text-decoration: none;\n",
       "}\n",
       "\n",
       "/* Span, style for the box shown on hovering the info icon */\n",
       ".sk-estimator-doc-link span {\n",
       "  display: none;\n",
       "  z-index: 9999;\n",
       "  position: relative;\n",
       "  font-weight: normal;\n",
       "  right: .2ex;\n",
       "  padding: .5ex;\n",
       "  margin: .5ex;\n",
       "  width: min-content;\n",
       "  min-width: 20ex;\n",
       "  max-width: 50ex;\n",
       "  color: var(--sklearn-color-text);\n",
       "  box-shadow: 2pt 2pt 4pt #999;\n",
       "  /* unfitted */\n",
       "  background: var(--sklearn-color-unfitted-level-0);\n",
       "  border: .5pt solid var(--sklearn-color-unfitted-level-3);\n",
       "}\n",
       "\n",
       ".sk-estimator-doc-link.fitted span {\n",
       "  /* fitted */\n",
       "  background: var(--sklearn-color-fitted-level-0);\n",
       "  border: var(--sklearn-color-fitted-level-3);\n",
       "}\n",
       "\n",
       ".sk-estimator-doc-link:hover span {\n",
       "  display: block;\n",
       "}\n",
       "\n",
       "/* \"?\"-specific style due to the `<a>` HTML tag */\n",
       "\n",
       "#sk-container-id-1 a.estimator_doc_link {\n",
       "  float: right;\n",
       "  font-size: 1rem;\n",
       "  line-height: 1em;\n",
       "  font-family: monospace;\n",
       "  background-color: var(--sklearn-color-background);\n",
       "  border-radius: 1rem;\n",
       "  height: 1rem;\n",
       "  width: 1rem;\n",
       "  text-decoration: none;\n",
       "  /* unfitted */\n",
       "  color: var(--sklearn-color-unfitted-level-1);\n",
       "  border: var(--sklearn-color-unfitted-level-1) 1pt solid;\n",
       "}\n",
       "\n",
       "#sk-container-id-1 a.estimator_doc_link.fitted {\n",
       "  /* fitted */\n",
       "  border: var(--sklearn-color-fitted-level-1) 1pt solid;\n",
       "  color: var(--sklearn-color-fitted-level-1);\n",
       "}\n",
       "\n",
       "/* On hover */\n",
       "#sk-container-id-1 a.estimator_doc_link:hover {\n",
       "  /* unfitted */\n",
       "  background-color: var(--sklearn-color-unfitted-level-3);\n",
       "  color: var(--sklearn-color-background);\n",
       "  text-decoration: none;\n",
       "}\n",
       "\n",
       "#sk-container-id-1 a.estimator_doc_link.fitted:hover {\n",
       "  /* fitted */\n",
       "  background-color: var(--sklearn-color-fitted-level-3);\n",
       "}\n",
       "</style><div id=\"sk-container-id-1\" class=\"sk-top-container\"><div class=\"sk-text-repr-fallback\"><pre>IsolationForest(contamination=0.01, random_state=42)</pre><b>In a Jupyter environment, please rerun this cell to show the HTML representation or trust the notebook. <br />On GitHub, the HTML representation is unable to render, please try loading this page with nbviewer.org.</b></div><div class=\"sk-container\" hidden><div class=\"sk-item\"><div class=\"sk-estimator fitted sk-toggleable\"><input class=\"sk-toggleable__control sk-hidden--visually\" id=\"sk-estimator-id-1\" type=\"checkbox\" checked><label for=\"sk-estimator-id-1\" class=\"sk-toggleable__label fitted sk-toggleable__label-arrow fitted\">&nbsp;&nbsp;IsolationForest<a class=\"sk-estimator-doc-link fitted\" rel=\"noreferrer\" target=\"_blank\" href=\"https://scikit-learn.org/1.5/modules/generated/sklearn.ensemble.IsolationForest.html\">?<span>Documentation for IsolationForest</span></a><span class=\"sk-estimator-doc-link fitted\">i<span>Fitted</span></span></label><div class=\"sk-toggleable__content fitted\"><pre>IsolationForest(contamination=0.01, random_state=42)</pre></div> </div></div></div></div>"
      ],
      "text/plain": [
       "IsolationForest(contamination=0.01, random_state=42)"
      ]
     },
     "execution_count": 6,
     "metadata": {},
     "output_type": "execute_result"
    }
   ],
   "source": [
    "# 3. 학습 데이터 준비 (leakage만 사용)\n",
    "X = df_A['leakage'].values.reshape(-1, 1)\n",
    "iso_forest.fit(X)"
   ]
  },
  {
   "cell_type": "code",
   "execution_count": 7,
   "id": "2debe175",
   "metadata": {},
   "outputs": [],
   "source": [
    "# 4. Anomaly 예측\n",
    "anomaly_pred = iso_forest.predict(X)\n",
    "df_A['predicted_anomaly'] = np.where(anomaly_pred == -1, 1, 0)"
   ]
  },
  {
   "cell_type": "code",
   "execution_count": 8,
   "id": "50a7cee4",
   "metadata": {},
   "outputs": [
    {
     "data": {
      "text/plain": [
       "<Figure size 1500x800 with 0 Axes>"
      ]
     },
     "execution_count": 8,
     "metadata": {},
     "output_type": "execute_result"
    },
    {
     "data": {
      "text/plain": [
       "<Figure size 1500x800 with 0 Axes>"
      ]
     },
     "metadata": {},
     "output_type": "display_data"
    }
   ],
   "source": [
    "# 5. 시각화\n",
    "plt.figure(figsize=(15, 8))"
   ]
  },
  {
   "cell_type": "code",
   "execution_count": 9,
   "id": "3574352d",
   "metadata": {},
   "outputs": [
    {
     "data": {
      "image/png": "[encoded data removed]",
      "text/plain": [
       "<Figure size 640x480 with 1 Axes>"
      ]
     },
     "metadata": {},
     "output_type": "display_data"
    }
   ],
   "source": [
    "# Leakage 데이터와 예측된/실제 anomaly 플롯\n",
    "plt.plot(df_A.index, df_A['leakage'], 'b-', label='Normal', alpha=0.5)\n",
    "plt.scatter(df_A.index[df_A['predicted_anomaly'] == 1],\n",
    "           df_A['leakage'][df_A['predicted_anomaly'] == 1],\n",
    "           color='red', label='Detected Anomalies')\n",
    "plt.scatter(df_A.index[df_A['anomaly'] == 1],\n",
    "           df_A['leakage'][df_A['anomaly'] == 1],\n",
    "           color='green', marker='*', s=100, label='True Anomalies')\n",
    "plt.title('Leakage Data with Anomalies')\n",
    "plt.legend()\n",
    "plt.tight_layout()\n",
    "plt.show()"
   ]
  },
  {
   "cell_type": "code",
   "execution_count": 10,
   "id": "83388ac4",
   "metadata": {},
   "outputs": [
    {
     "name": "stdout",
     "output_type": "stream",
     "text": [
      "실제 anomaly 수: 30\n",
      "탐지된 anomaly 수: 440\n",
      "일치하는 anomaly 수: 30\n",
      "탐지 정확도: 100.00%\n"
     ]
    }
   ],
   "source": [
    "# 6. 성능 평가\n",
    "true_anomalies = df_A[df_A['anomaly'] == 1]\n",
    "detected_anomalies = df_A[df_A['predicted_anomaly'] == 1]\n",
    "matching = df_A[(df_A['anomaly'] == 1) & (df_A['predicted_anomaly'] == 1)]\n",
    "\n",
    "print(f\"실제 anomaly 수: {len(true_anomalies)}\")\n",
    "print(f\"탐지된 anomaly 수: {len(detected_anomalies)}\")\n",
    "print(f\"일치하는 anomaly 수: {len(matching)}\")\n",
    "print(f\"탐지 정확도: {len(matching)/len(true_anomalies)*100:.2f}%\")"
   ]
  },
  {
   "cell_type": "code",
   "execution_count": 1,
   "id": "4619c730",
   "metadata": {},
   "outputs": [
    {
     "ename": "NameError",
     "evalue": "name 'true_anomalies' is not defined",
     "output_type": "error",
     "traceback": [
      "\u001b[1;31m---------------------------------------------------------------------------\u001b[0m",
      "\u001b[1;31mNameError\u001b[0m                                 Traceback (most recent call last)",
      "Cell \u001b[1;32mIn[1], line 1\u001b[0m\n\u001b[1;32m----> 1\u001b[0m \u001b[38;5;28mprint\u001b[39m(\u001b[38;5;124mf\u001b[39m\u001b[38;5;124m\"\u001b[39m\u001b[38;5;124m실제 anomaly 수: \u001b[39m\u001b[38;5;132;01m{\u001b[39;00m\u001b[38;5;28mlen\u001b[39m(true_anomalies)\u001b[38;5;132;01m}\u001b[39;00m\u001b[38;5;124m\"\u001b[39m)\n\u001b[0;32m      2\u001b[0m \u001b[38;5;28mprint\u001b[39m(\u001b[38;5;124mf\u001b[39m\u001b[38;5;124m\"\u001b[39m\u001b[38;5;124m탐지된 anomaly 수: \u001b[39m\u001b[38;5;132;01m{\u001b[39;00m\u001b[38;5;28mlen\u001b[39m(detected_anomalies)\u001b[38;5;132;01m}\u001b[39;00m\u001b[38;5;124m\"\u001b[39m)\n\u001b[0;32m      3\u001b[0m \u001b[38;5;28mprint\u001b[39m(\u001b[38;5;124mf\u001b[39m\u001b[38;5;124m\"\u001b[39m\u001b[38;5;124m일치하는 anomaly 수: \u001b[39m\u001b[38;5;132;01m{\u001b[39;00m\u001b[38;5;28mlen\u001b[39m(matching)\u001b[38;5;132;01m}\u001b[39;00m\u001b[38;5;124m\"\u001b[39m)\n",
      "\u001b[1;31mNameError\u001b[0m: name 'true_anomalies' is not defined"
     ]
    }
   ],
   "source": [
    "print(f\"실제 anomaly 수: {len(true_anomalies)}\")\n",
    "print(f\"탐지된 anomaly 수: {len(detected_anomalies)}\")\n",
    "print(f\"일치하는 anomaly 수: {len(matching)}\")\n",
    "print(f\"탐지 정확도: {len(matching)/len(true_anomalies)*100:.2f}%\")\n"
   ]
  },
  {
   "cell_type": "code",
   "execution_count": null,
   "id": "9342606d",
   "metadata": {},
   "outputs": [],
   "source": [
    "# 7. 주요 anomaly 시점 출력\n",
    "print(\"\\n주요 anomaly 발생 시점:\")\n",
    "print(true_anomalies[['timestamp', 'leakage']].head())"
   ]
  },
  {
   "cell_type": "code",
   "execution_count": 2,
   "id": "001d310d",
   "metadata": {},
   "outputs": [
    {
     "ename": "NameError",
     "evalue": "name 'interact' is not defined",
     "output_type": "error",
     "traceback": [
      "\u001b[1;31m---------------------------------------------------------------------------\u001b[0m",
      "\u001b[1;31mNameError\u001b[0m                                 Traceback (most recent call last)",
      "Cell \u001b[1;32mIn[2], line 44\u001b[0m\n\u001b[0;32m     41\u001b[0m     \u001b[38;5;28mprint\u001b[39m(\u001b[38;5;124mf\u001b[39m\u001b[38;5;124m\"\u001b[39m\u001b[38;5;124mPercentage of anomalies: \u001b[39m\u001b[38;5;132;01m{\u001b[39;00m(anomaly_mask\u001b[38;5;241m.\u001b[39msum()\u001b[38;5;241m/\u001b[39m\u001b[38;5;28mlen\u001b[39m(df_A))\u001b[38;5;241m*\u001b[39m\u001b[38;5;241m100\u001b[39m\u001b[38;5;132;01m:\u001b[39;00m\u001b[38;5;124m.2f\u001b[39m\u001b[38;5;132;01m}\u001b[39;00m\u001b[38;5;124m%\u001b[39m\u001b[38;5;124m\"\u001b[39m)\n\u001b[0;32m     43\u001b[0m \u001b[38;5;66;03m# 인터랙티브 위젯 생성\u001b[39;00m\n\u001b[1;32m---> 44\u001b[0m interact(\n\u001b[0;32m     45\u001b[0m     plot_leakage_anomalies,\n\u001b[0;32m     46\u001b[0m     diff_threshold\u001b[38;5;241m=\u001b[39mwidgets\u001b[38;5;241m.\u001b[39mFloatSlider(\n\u001b[0;32m     47\u001b[0m         value\u001b[38;5;241m=\u001b[39m\u001b[38;5;241m1000\u001b[39m,\n\u001b[0;32m     48\u001b[0m         \u001b[38;5;28mmin\u001b[39m\u001b[38;5;241m=\u001b[39m\u001b[38;5;241m100\u001b[39m,\n\u001b[0;32m     49\u001b[0m         \u001b[38;5;28mmax\u001b[39m\u001b[38;5;241m=\u001b[39m\u001b[38;5;241m5000\u001b[39m,\n\u001b[0;32m     50\u001b[0m         step\u001b[38;5;241m=\u001b[39m\u001b[38;5;241m100\u001b[39m,\n\u001b[0;32m     51\u001b[0m         description\u001b[38;5;241m=\u001b[39m\u001b[38;5;124m'\u001b[39m\u001b[38;5;124mDiff Threshold:\u001b[39m\u001b[38;5;124m'\u001b[39m\n\u001b[0;32m     52\u001b[0m     ),\n\u001b[0;32m     53\u001b[0m     std_threshold\u001b[38;5;241m=\u001b[39mwidgets\u001b[38;5;241m.\u001b[39mFloatSlider(\n\u001b[0;32m     54\u001b[0m         value\u001b[38;5;241m=\u001b[39m\u001b[38;5;241m500\u001b[39m,\n\u001b[0;32m     55\u001b[0m         \u001b[38;5;28mmin\u001b[39m\u001b[38;5;241m=\u001b[39m\u001b[38;5;241m100\u001b[39m,\n\u001b[0;32m     56\u001b[0m         \u001b[38;5;28mmax\u001b[39m\u001b[38;5;241m=\u001b[39m\u001b[38;5;241m2000\u001b[39m,\n\u001b[0;32m     57\u001b[0m         step\u001b[38;5;241m=\u001b[39m\u001b[38;5;241m100\u001b[39m,\n\u001b[0;32m     58\u001b[0m         description\u001b[38;5;241m=\u001b[39m\u001b[38;5;124m'\u001b[39m\u001b[38;5;124mStd Threshold:\u001b[39m\u001b[38;5;124m'\u001b[39m\n\u001b[0;32m     59\u001b[0m     )\n\u001b[0;32m     60\u001b[0m )\n",
      "\u001b[1;31mNameError\u001b[0m: name 'interact' is not defined"
     ]
    }
   ],
   "source": [
    "def plot_leakage_anomalies(diff_threshold, std_threshold):\n",
    "    # 1. Leakage 변화율과 표준편차 계산\n",
    "    df_A['leakage_diff'] = df_A['leakage'].diff()\n",
    "    df_A['leakage_std'] = df_A['leakage'].rolling(window=5).std()\n",
    "    \n",
    "    # 2. Threshold 기반 anomaly 탐지\n",
    "    anomaly_mask = (abs(df_A['leakage_diff']) > diff_threshold) | \\\n",
    "                  (df_A['leakage_std'] > std_threshold)\n",
    "    \n",
    "    # 3. 시각화\n",
    "    plt.figure(figsize=(15, 10))\n",
    "    \n",
    "    # Leakage 데이터와 anomaly 플롯\n",
    "    plt.subplot(3, 1, 1)\n",
    "    plt.plot(df_A.index, df_A['leakage'], 'b-', label='Normal', alpha=0.5)\n",
    "    plt.scatter(df_A.index[anomaly_mask],\n",
    "               df_A['leakage'][anomaly_mask],\n",
    "               color='red', label='Anomalies')\n",
    "    plt.title('Leakage Data with Anomalies')\n",
    "    plt.legend()\n",
    "    \n",
    "    # 변화율 플롯\n",
    "    plt.subplot(3, 1, 2)\n",
    "    plt.plot(df_A.index, df_A['leakage_diff'], 'g-', label='Diff', alpha=0.5)\n",
    "    plt.axhline(y=diff_threshold, color='r', linestyle='--', label='Upper Threshold')\n",
    "    plt.axhline(y=-diff_threshold, color='r', linestyle='--', label='Lower Threshold')\n",
    "    plt.title('Leakage Change Rate')\n",
    "    plt.legend()\n",
    "    \n",
    "    # 이동 표준편차 플롯\n",
    "    plt.subplot(3, 1, 3)\n",
    "    plt.plot(df_A.index, df_A['leakage_std'], 'purple', label='Std', alpha=0.5)\n",
    "    plt.axhline(y=std_threshold, color='r', linestyle='--', label='Threshold')\n",
    "    plt.title('Rolling Standard Deviation')\n",
    "    plt.legend()\n",
    "    \n",
    "    plt.tight_layout()\n",
    "    \n",
    "    # 통계 출력\n",
    "    print(f\"Number of anomalies detected: {anomaly_mask.sum()}\")\n",
    "    print(f\"Percentage of anomalies: {(anomaly_mask.sum()/len(df_A))*100:.2f}%\")\n",
    "\n",
    "# 인터랙티브 위젯 생성\n",
    "interact(\n",
    "    plot_leakage_anomalies,\n",
    "    diff_threshold=widgets.FloatSlider(\n",
    "        value=1000,\n",
    "        min=100,\n",
    "        max=5000,\n",
    "        step=100,\n",
    "        description='Diff Threshold:'\n",
    "    ),\n",
    "    std_threshold=widgets.FloatSlider(\n",
    "        value=500,\n",
    "        min=100,\n",
    "        max=2000,\n",
    "        step=100,\n",
    "        description='Std Threshold:'\n",
    "    )\n",
    ")"
   ]
  },
  {
   "cell_type": "code",
   "execution_count": null,
   "id": "4ebe3dd0",
   "metadata": {},
   "outputs": [],
   "source": []
  },
  {
   "cell_type": "code",
   "execution_count": null,
   "id": "83dbd801",
   "metadata": {},
   "outputs": [],
   "source": [
    "# 결과 확인 (처음 5행 출력)\n",
    "print(df_A[['Q1', 'Q2', 'Q3', 'Q4', 'Q5', 'leakage']].head())"
   ]
  },
  {
   "cell_type": "markdown",
   "id": "6913193f-60e4-4a65-8624-ec71deaab68e",
   "metadata": {},
   "source": [
    "`-` 해결해야할 문제 : P 압력계에서 일어나는 이상치를 탐지\n",
    "\n",
    "- Q1 ~ Q5 : 유량 정량 정보\n",
    "- M1 ~ M14 : 이진 분류되어진 펌프가동정보, 이산형 데이터 0이면 꺼진거 1이면 켜진거\n",
    "- P1 ~ P26 : 해당 펌프의 상수도의 압력계 정량 정보 0이면 정상 1이면 이상치!!\n",
    "- P1_flag ~ P26_flag : 어떠한 P에 이상 탐지 여부, 이진 분류, test set에선 제공되지 않는다\n",
    "- anomaly : 이상 탐지 여부, train set에서만 존재, P1_flag ~ P26_flag에서 감지되면 해당 변수에서도 체크된다, test set에선 제공되지 않는다\n",
    "- Data set : $ D_{train} \\in R^{n \\times m} $ , $n = 1,2,...,44101,\\quad m = 1,2,...,73$\n",
    "- $n$단위는 1분, 결측치 존재 X\n"
   ]
  },
  {
   "cell_type": "markdown",
   "id": "303fe652-a3b8-4600-80b0-f95b81a87e93",
   "metadata": {},
   "source": [
    "---\n",
    "# EDA \n",
    "- 이상탐지여부 중심으로 진행\n",
    "- 매우 낮은 이상치 갯수 "
   ]
  },
  {
   "cell_type": "code",
   "execution_count": null,
   "id": "7e5651a9-ebeb-439d-8a29-5dc3ab9f2c50",
   "metadata": {},
   "outputs": [],
   "source": [
    "plt.pie(df_A[[\"anomaly\"]].value_counts(),autopct='%1.1f%%')\n",
    "plt.title(\"pie graph for outlier ratio\")\n",
    "plt.show()"
   ]
  },
  {
   "cell_type": "code",
   "execution_count": null,
   "id": "746b2610-1c30-4556-b288-fdfdd9e3ab28",
   "metadata": {},
   "outputs": [],
   "source": [
    "df_true = df_A[df_A[\"anomaly\"] == 1].iloc[:,1:(5+14+26+1)]\n",
    "df_false = df_A[df_A[\"anomaly\"] != 1].iloc[:,1:(5+14+26+1)]"
   ]
  },
  {
   "cell_type": "markdown",
   "id": "312377c3-f5be-4281-9ac0-664c7eccf55e",
   "metadata": {},
   "source": [
    "## Q1~Q5 박스플랏\n",
    "- 시계열 데이터를 박스플랏으로 보기는 조금 난해하지만 이상치가 표본으로부터 얼마나 거리가 떨어져있는지 확인하기 위해 박스플랏을 그려보았다\n",
    "- Q3는 다른 데이터에 비해 분포가 매우 큰 차이가 날 것으로 보인다."
   ]
  },
  {
   "cell_type": "code",
   "execution_count": null,
   "id": "da3b6fc1-b514-41d9-85bb-63cd771cfbd2",
   "metadata": {},
   "outputs": [],
   "source": [
    "import matplotlib.pyplot as plt\n",
    "\n",
    "fig, ax = plt.subplots(2, 3, figsize=(10, 10))\n",
    "\n",
    "titles = [\"Q1\", \"Q2\", \"Q3\", \"Q4\", \"Q5\"]\n",
    "data = [df_true.iloc[:, i].values for i in range(5)]\n",
    "labels = [\"True\", \"False\"]\n",
    "\n",
    "for i in range(5):\n",
    "    row, col = divmod(i, 3)  # 2x3 배열에서 행(row)과 열(col) 계산\n",
    "    ax[row, col].boxplot(\n",
    "        [data[i], df_false.iloc[:, i].values], \n",
    "        labels=labels\n",
    "    )\n",
    "    ax[row, col].set_title(titles[i])\n",
    "\n",
    "# 필요 없는 격자 숨기기 (마지막 서브플롯)\n",
    "ax[1, 2].axis(\"off\")\n",
    "\n",
    "\n",
    "plt.tight_layout()  # 레이아웃 조정\n",
    "plt.show()"
   ]
  },
  {
   "cell_type": "markdown",
   "id": "92356671",
   "metadata": {},
   "source": [
    "## Q1~Q5 시도표\n",
    "- 그래프를 통해, 시계열 추세가 매우 변동이 큰 것을 보아 포인트를 찾는 이상치 기법보단 구간별로 이상치를 찾아야할 것으로 보인다."
   ]
  },
  {
   "cell_type": "code",
   "execution_count": null,
   "id": "006f63c5",
   "metadata": {},
   "outputs": [],
   "source": [
    "fig, ax = plt.subplots(5,1,figsize=(10,10))\n",
    "for i in range(0,5):\n",
    "    ax[i].plot(df_A[f'Q{i+1}'])\n",
    "    ax[i].set_title(titles[i])\n",
    "\n",
    "plt.tight_layout()\n",
    "plt.show()"
   ]
  },
  {
   "cell_type": "markdown",
   "id": "e03f606e-8bb1-43af-8dce-d5e8cc26953d",
   "metadata": {},
   "source": [
    "## 이상치 구간 시각화"
   ]
  },
  {
   "cell_type": "code",
   "execution_count": null,
   "id": "c0fc96ba",
   "metadata": {},
   "outputs": [],
   "source": [
    "# 그래프 생성\n",
    "fig, ax = plt.subplots(figsize=(10, 6))\n",
    "\n",
    "# 정상 데이터 플롯\n",
    "ax.plot(\n",
    "    df_A.index[-40000:],  # 시간 축\n",
    "    df_A['leakage'][-40000:],  # leakage 데이터\n",
    "    label=\"Normal Data\",\n",
    "    color=\"blue\",\n",
    "    linewidth=1,\n",
    "    alpha=0.7\n",
    ")\n",
    "\n",
    "# 이상치 데이터 플롯\n",
    "ax.plot(\n",
    "    df_A.index[df_A[\"anomaly\"] == 1],  # 이상치의 시간\n",
    "    df_A['leakage'][df_A[\"anomaly\"] == 1],  # 이상치의 leakage 값\n",
    "    label=\"Anomalies\",\n",
    "    color=\"red\",\n",
    "    marker='o',\n",
    "    linestyle='None',\n",
    "    markersize=5\n",
    ")\n",
    "\n",
    "# 그래프 설정\n",
    "ax.set_title('Leakage Data with Anomalies')\n",
    "ax.set_xlabel('Time')\n",
    "ax.set_ylabel('Leakage')\n",
    "ax.legend()\n",
    "\n",
    "plt.show()"
   ]
  },
  {
   "cell_type": "code",
   "execution_count": null,
   "id": "ffdb1039",
   "metadata": {},
   "outputs": [],
   "source": [
    "# Select pump operation data (M1 to M14) and leakage\n",
    "data_pump = df_A[['leakage', 'anomaly'] + [f'M{i}' for i in range(1, 15)]]\n",
    "\n",
    "# Create a custom palette\n",
    "palette = {0: 'blue', 1: 'red'}\n",
    "\n",
    "# Create a pairplot to visualize relationships between leakage and pump operation\n",
    "g = sns.pairplot(data_pump, y_vars=['leakage'], x_vars=[f'M{i}' for i in range(1, 15)],\n",
    "                 kind='scatter', height=5, aspect=1.2,\n",
    "                 plot_kws={'alpha': 0.6, 'edgecolor': 'none'},\n",
    "                 hue='anomaly', palette=palette)\n",
    "\n",
    "# Adjust the layout and title\n",
    "g.fig.suptitle('Relationship between Leakage and Pump Operation (M1 to M14)', y=1.02, fontsize=16)\n",
    "plt.tight_layout()\n",
    "\n",
    "# Show the plot\n",
    "plt.show()"
   ]
  },
  {
   "cell_type": "markdown",
   "id": "3e3007ef",
   "metadata": {},
   "source": [
    "1. M1-0 \n",
    "2. M2-0\n",
    "3. M3-0\n",
    "4. M4-대부분1 anomaly\n",
    "5. M5-0,1반반 0일때 anomaly\n",
    "6. M6-0,1 반반 0일 때 anomaly\n",
    "7. M7- 0,1 반반 0일 때 anomaly\n",
    "8. M8- 0,1 중 1이 조금더 많음, 1일때 anomaly\n",
    "9. M9-0,1 중 1이 조금 더 많음, 1일 때 anomaly\n",
    "10. M10- 0\n",
    "11. M11-0,1 중 1이 조금 더 많음, 1일 때 anomaly\n",
    "12. M12-0,1 중 0이 조금 더 많음, 1일 때 anomaly\n",
    "13. M13-0\n",
    "14. M14 반반 1일때 anomaly "
   ]
  },
  {
   "cell_type": "code",
   "execution_count": null,
   "id": "50d8637f",
   "metadata": {},
   "outputs": [],
   "source": [
    "# Select pressure sensor data (P1 to P26), leakage, and anomaly\n",
    "data_pressure = df_A[['leakage', 'anomaly'] + [f'P{i}' for i in range(1, 27)]]\n",
    "\n",
    "# Create a pairplot for pressure sensors vs leakage with anomaly highlighting\n",
    "palette = {0: 'blue', 1: 'red'}  # Normal data in blue, anomalies in red\n",
    "g = sns.pairplot(\n",
    "    data_pressure,\n",
    "    y_vars=['leakage'],\n",
    "    x_vars=[f'P{i}' for i in range(1, 27)],\n",
    "    hue='anomaly',\n",
    "    palette=palette,\n",
    "    kind='scatter',\n",
    "    height=5,\n",
    "    aspect=1.2,\n",
    "    plot_kws={'alpha': 0.6}\n",
    ")\n",
    "\n",
    "# Adjust the layout and title\n",
    "g.fig.suptitle('Relationship between Leakage and Pressure Sensors (P1 to P26)', y=1.02, fontsize=16)\n",
    "plt.tight_layout()\n",
    "\n",
    "# Show the plot\n",
    "plt.show()\n",
    "#p_flag에 대한 인사이트 보인다. p7,8,9에서 확실히"
   ]
  },
  {
   "cell_type": "code",
   "execution_count": null,
   "id": "92389a45",
   "metadata": {},
   "outputs": [],
   "source": [
    "# 펌프 가동 여부(M1~M14)와 누수 데이터 상관관계 히트맵\n",
    "plt.figure(figsize=(12, 8))\n",
    "pump_corr = df_A[['leakage'] + [f'M{i}' for i in range(1, 15)]].corr()\n",
    "sns.heatmap(pump_corr, annot=True, cmap='coolwarm', fmt=\".2f\", vmin=-1, vmax=1)\n",
    "plt.title('Correlation between Leakage and Pump Operation (M1-M14)')\n",
    "plt.show()"
   ]
  },
  {
   "cell_type": "code",
   "execution_count": null,
   "id": "45a0d853",
   "metadata": {},
   "outputs": [],
   "source": [
    "# 압력 센서 데이터(P1~P26)와 누수 데이터 상관관계 히트맵\n",
    "plt.figure(figsize=(16, 10))\n",
    "pressure_corr = df_A[['leakage'] + [f'P{i}' for i in range(1, 27)]].corr()\n",
    "sns.heatmap(pressure_corr, annot=False, cmap='coolwarm', fmt=\".2f\", vmin=-1, vmax=1)\n",
    "plt.title('Correlation between Leakage and Pressure Sensors (P1-P26)')\n",
    "plt.show()"
   ]
  },
  {
   "cell_type": "markdown",
   "id": "0bbfe223-dae4-4f30-bc4b-4556d2676f8f",
   "metadata": {},
   "source": [
    "## M1~M14\n",
    "- 아래 표는 이상치 여부가 1인 데이터의 M1~M14를 합산하여 평균낸 것으로 이상치가 탐지된 구간에서 비율이 1인 것을 알 수 있다.\n",
    "  - 이는 TRAIN_A 데이터에서 이상치는 M4, M8, M9, M11, M12, M14이 무조건 1로 체크되어있다는 의미이다.\n",
    "- 하지만 이상치여부가 0인 데이터는 이상치와는 다르게 집계된 것을 확인할 수 있다."
   ]
  },
  {
   "cell_type": "code",
   "execution_count": null,
   "id": "f8ef0a94-1b00-424c-a13e-249136460dcf",
   "metadata": {},
   "outputs": [],
   "source": [
    "pd.DataFrame({'anomaly':np.sum(df_true.iloc[:,5:(5+14)],axis=0) / 30,\n",
    "              'No anomaly':np.sum(df_false.iloc[:,5:(5+14)],axis=0) / len(df_false)})#,np.sum(df_false.iloc[:,5:(5+14)],axis=0)"
   ]
  },
  {
   "cell_type": "markdown",
   "id": "d6f4625b-2011-4907-b310-cef2e8856cca",
   "metadata": {},
   "source": [
    "## P1 ~ P26 시도표\n",
    "- 관망구조를 보면 P1부터 P26은 하나의 구조로 이루어져 있는 것을 확인하였다.\n",
    "- 이는 서로 집계되는 압력이 어느정도 상관관계가 있을 것으로 보이며, 다변량 문제로 접근해봐야 한다는 의미로도 볼 수 있다.\n",
    "- 시도표에서도 추세, 계절 성분으로 보이는 것들이 근접한 P 사이에서 대체적으로 비슷하게 나타나 있는 것을 확인할 수 있었다. "
   ]
  },
  {
   "cell_type": "code",
   "execution_count": null,
   "id": "4e8a738b-a891-40f3-b0d3-9473bb581117",
   "metadata": {},
   "outputs": [],
   "source": [
    "P = df_true.columns[[df_true.columns[i][0] == 'P' for i in range(len(df_true.columns))]]\n",
    "\n",
    "fig, ax = plt.subplots(len(P),1,figsize=(10,50))\n",
    "df_Ap= df_A[P]\n",
    "for i in range(len(P)):\n",
    "    ax[i].plot(df_Ap[f'P{i+1}'])\n",
    "    ax[i].set_title(P[i])\n",
    "\n",
    "plt.tight_layout()\n",
    "plt.show()\n",
    "#밸브 개도율 압력계: p7,p10,p11,p13,p14,p15,p16,p18,p19,p20,p21,p22,p23\n",
    "#p17은 독립적"
   ]
  },
  {
   "cell_type": "markdown",
   "id": "b59d0e0b-56fc-462e-b0bc-f4b730f0dbe1",
   "metadata": {},
   "source": [
    "## 이상치 시각화\n",
    "\n",
    "- P 데이터는 이상치 여부를 판단하는 아주 중요한 변수로 보인다.\n",
    "- TEST SET에서도 P의 개수에 따라 제출해야하는 이상치 개수가 달라진다. 예를 들어 TEST-C0000이 P가 10개면, 10개에 대한 이상치 탐지 여부를 제출해야한다는 의미이다."
   ]
  },
  {
   "cell_type": "code",
   "execution_count": null,
   "id": "aa35c2c5-35f6-4a29-9682-8d1f0fad350c",
   "metadata": {
    "scrolled": true
   },
   "outputs": [],
   "source": [
    "# P로 시작하는 컬럼 선택\n",
    "P = df_true.columns[[df_true.columns[i][0] == 'P' for i in range(len(df_true.columns))]]\n",
    "df_Ap = df_A[P]  # P로 시작하는 열만 선택\n",
    "\n",
    "# 플롯 생성\n",
    "fig, ax = plt.subplots(len(P), 1, figsize=(10, 50))\n",
    "\n",
    "for i in range(len(P)):\n",
    "    # 정상 데이터 플롯\n",
    "    ax[i].plot(\n",
    "        df_A.index[35000:45000],  # 시간 축\n",
    "        df_Ap[P[i]][35000:45000],  # P 데이터\n",
    "        label=\"Normal Data\",\n",
    "        color=\"blue\",\n",
    "        linewidth=1,\n",
    "        alpha=0.7\n",
    "    )\n",
    "\n",
    "    # 이상치 데이터 플롯\n",
    "    ax[i].plot(\n",
    "        df_A.index[df_A[\"anomaly\"] == 1],  # 이상치 시간\n",
    "        df_Ap[P[i]][df_A[\"anomaly\"] == 1],  # 이상치 값\n",
    "        label=\"Anomalies\",\n",
    "        color=\"red\",\n",
    "        linewidth=1.5  # 두께 강조\n",
    "    )\n",
    "\n",
    "    # 평균선 추가\n",
    "    mean_value = df_Ap[P[i]].mean()  # 평균값 계산\n",
    "    ax[i].axhline(mean_value, color=\"green\", linestyle=\"--\", label=\"Mean\")  # 수평선 추가\n",
    "\n",
    "    # 제목 및 범례 추가\n",
    "    ax[i].set_title(P[i])\n",
    "    ax[i].legend()\n",
    "\n",
    "plt.tight_layout()  # 레이아웃 조정\n",
    "plt.show()\n"
   ]
  },
  {
   "cell_type": "code",
   "execution_count": null,
   "id": "3a64424d",
   "metadata": {},
   "outputs": [],
   "source": [
    "import pandas as pd\n",
    "\n",
    "# anomaly == 1인 데이터에서 timestamp 열만 선택\n",
    "timestamps = df_A[df_A[\"anomaly\"] == 1][\"timestamp\"]\n",
    "\n",
    "# DataFrame으로 변환 (엑셀 저장을 위해)\n",
    "timestamps_df = timestamps.reset_index(drop=True).to_frame(name=\"timestamp\")\n",
    "\n",
    "# 엑셀 파일로 저장\n",
    "timestamps_df.to_excel(\"timestamps.xlsx\", index=False)\n",
    "\n",
    "print(\"timestamp 데이터가 'timestamps.xlsx' 파일로 저장되었습니다.\")"
   ]
  },
  {
   "cell_type": "code",
   "execution_count": null,
   "id": "748d8022",
   "metadata": {},
   "outputs": [],
   "source": [
    "timestamps_df"
   ]
  },
  {
   "cell_type": "code",
   "execution_count": null,
   "id": "876d1cb3",
   "metadata": {},
   "outputs": [],
   "source": [
    "df_A[df_A[\"anomaly\"] == 1]"
   ]
  },
  {
   "cell_type": "code",
   "execution_count": null,
   "id": "b4a0ed20",
   "metadata": {},
   "outputs": [],
   "source": [
    "#시계열 자료로 변환\n",
    "df_A['timestamp'] = pd.to_datetime(df_A['timestamp'], format='%y/%m/%d %H:%M')"
   ]
  },
  {
   "cell_type": "code",
   "execution_count": null,
   "id": "3e74bb7c",
   "metadata": {},
   "outputs": [],
   "source": [
    "df_A['timestamp'].head()"
   ]
  },
  {
   "cell_type": "code",
   "execution_count": null,
   "id": "20903ce6",
   "metadata": {},
   "outputs": [],
   "source": [
    "# anomaly가 1인 시간대 찾기\n",
    "anomaly_times = df_A[df_A['anomaly'] == 1]['timestamp']"
   ]
  },
  {
   "cell_type": "code",
   "execution_count": null,
   "id": "37528539",
   "metadata": {},
   "outputs": [],
   "source": [
    "print(df_A['timestamp'].min(), df_A['timestamp'].max())"
   ]
  },
  {
   "cell_type": "code",
   "execution_count": null,
   "id": "36a5b361",
   "metadata": {},
   "outputs": [],
   "source": [
    "# anomaly가 1인 연속된 구간 찾기\n",
    "anomaly_start = df_A[df_A['anomaly'] == 1]['timestamp'].min()\n",
    "anomaly_end = df_A[df_A['anomaly'] == 1]['timestamp'].max()"
   ]
  },
  {
   "cell_type": "code",
   "execution_count": null,
   "id": "7ae655aa",
   "metadata": {},
   "outputs": [],
   "source": [
    "anomaly_start"
   ]
  },
  {
   "cell_type": "code",
   "execution_count": null,
   "id": "a47f2574",
   "metadata": {},
   "outputs": [],
   "source": [
    "anomaly_end"
   ]
  },
  {
   "cell_type": "code",
   "execution_count": null,
   "id": "2baeed70",
   "metadata": {},
   "outputs": [],
   "source": [
    "# 데이터 추출\n",
    "filtered_data = df_A[df_A[\"anomaly\"] == 1]"
   ]
  },
  {
   "cell_type": "code",
   "execution_count": null,
   "id": "3721fe10",
   "metadata": {},
   "outputs": [],
   "source": [
    "filtered_data"
   ]
  },
  {
   "cell_type": "code",
   "execution_count": null,
   "id": "6aa924d5",
   "metadata": {},
   "outputs": [],
   "source": [
    "filtered_data.head()"
   ]
  },
  {
   "cell_type": "code",
   "execution_count": null,
   "id": "a6442edc",
   "metadata": {},
   "outputs": [],
   "source": [
    "# p1부터 p10까지의 데이터 시각화\n",
    "plt.figure(figsize=(14, 8))\n",
    "for i in range(1, 27):\n",
    "    plt.plot(filtered_data['timestamp'], filtered_data[f'P{i}'], label=f'P{i}')\n",
    "\n",
    "# anomaly 구간 강조\n",
    "plt.axvspan(anomaly_start, anomaly_end, color='red', alpha=0.3, label='Anomaly Period')\n",
    "\n",
    "plt.title('Changes of P1 to P26 in filtered_data with Anomaly Period Highlighted')\n",
    "plt.xlabel('Timestamp')\n",
    "plt.ylabel('Value')\n",
    "plt.legend()\n",
    "plt.grid()\n",
    "plt.tight_layout()\n",
    "plt.show()\n"
   ]
  },
  {
   "cell_type": "code",
   "execution_count": null,
   "id": "bba48fb6",
   "metadata": {},
   "outputs": [],
   "source": [
    "# p1부터 p10까지의 데이터 시각화\n",
    "plt.figure(figsize=(14, 8))\n",
    "for i in range(8, 10):\n",
    "    plt.plot(filtered_data['timestamp'], filtered_data[f'P{i}'], label=f'P{i}')\n",
    "\n",
    "# anomaly 구간 강조\n",
    "plt.axvspan(anomaly_start, anomaly_end, color='red', alpha=0.3, label='Anomaly Period')\n",
    "\n",
    "plt.title('Changes of P8 to P9 in filtered_data with Anomaly Period Highlighted')\n",
    "plt.xlabel('Timestamp')\n",
    "plt.ylabel('Value')\n",
    "plt.legend()\n",
    "plt.grid()\n",
    "plt.tight_layout()\n",
    "plt.show()"
   ]
  },
  {
   "cell_type": "code",
   "execution_count": null,
   "id": "fe748fce",
   "metadata": {},
   "outputs": [],
   "source": [
    "# 숫자형 컬럼만 선택 (timestamp와 같은 비숫자형 컬럼 제외)\n",
    "numeric_columns = filtered_data.select_dtypes(include=[np.number]).columns"
   ]
  },
  {
   "cell_type": "code",
   "execution_count": null,
   "id": "90541864",
   "metadata": {},
   "outputs": [],
   "source": [
    "# P8, P9를 포함한 모든 숫자형 컬럼 간의 상관관계 계산\n",
    "correlation_matrix = filtered_data[numeric_columns].corr()"
   ]
  },
  {
   "cell_type": "code",
   "execution_count": null,
   "id": "9b9fd921",
   "metadata": {},
   "outputs": [],
   "source": [
    "# P8, P9와 다른 컬럼들 간의 상관관계만 선택\n",
    "p8_p9_correlations = correlation_matrix.loc[['P8', 'P9'], :]"
   ]
  },
  {
   "cell_type": "code",
   "execution_count": null,
   "id": "68fd857a",
   "metadata": {},
   "outputs": [],
   "source": [
    "# 히트맵 생성\n",
    "plt.figure(figsize=(20, 6))\n",
    "sns.heatmap(p8_p9_correlations, annot=True, cmap='coolwarm', vmin=-1, vmax=1, center=0)\n",
    "plt.title('Correlation of P8 and P9 with Other Columns')\n",
    "plt.tight_layout()\n",
    "plt.show()"
   ]
  },
  {
   "cell_type": "code",
   "execution_count": null,
   "id": "ccd351bb",
   "metadata": {},
   "outputs": [],
   "source": [
    "# P8, P9와 가장 상관관계가 높은 상위 5개 컬럼 출력\n",
    "print(\"P8과 가장 상관관계가 높은 상위 10개 컬럼:\")\n",
    "print(correlation_matrix['P8'].sort_values(ascending=False)[1:11])  # P8 자신 제외"
   ]
  },
  {
   "cell_type": "code",
   "execution_count": null,
   "id": "905bcd05",
   "metadata": {},
   "outputs": [],
   "source": [
    "# P8, P9와 가장 상관관계가 높은 상위 5개 컬럼 출력\n",
    "print(\"P9와 가장 상관관계가 높은 상위 10개 컬럼:\")\n",
    "print(correlation_matrix['P9'].sort_values(ascending=False)[1:11])"
   ]
  },
  {
   "cell_type": "code",
   "execution_count": null,
   "id": "7ddc7a11",
   "metadata": {},
   "outputs": [],
   "source": [
    "# M으로 시작하는 컬럼 선택\n",
    "m_columns = [col for col in filtered_data.columns if col.startswith('M')]\n",
    "\n",
    "# P8, P9와 M으로 시작하는 컬럼 간의 상관관계 계산\n",
    "correlation_matrix_p_m = filtered_data[['P8', 'P9'] + m_columns].corr()\n",
    "\n",
    "# 히트맵 생성\n",
    "plt.figure(figsize=(12, 10))\n",
    "sns.heatmap(correlation_matrix_p_m, annot=True, cmap='coolwarm', vmin=-1, vmax=1, center=0)\n",
    "plt.title('Correlation between P8, P9 and M Columns')\n",
    "plt.tight_layout()\n",
    "plt.show()\n"
   ]
  },
  {
   "cell_type": "markdown",
   "id": "cdb34400",
   "metadata": {},
   "source": [
    "- Anomaly를 관측할 때 펌프와 압력사이의 상관관계가 0일수록 누수가 났을 가능성이 높다(가설)\n",
    "- TrainB도 이 가설처럼 나오면 모델을 돌릴때 펌프의 역할은 거의 없을 수도 있다"
   ]
  },
  {
   "cell_type": "code",
   "execution_count": null,
   "id": "2e2f8fe4",
   "metadata": {},
   "outputs": [],
   "source": [
    "# P1부터 P26까지의 컬럼 선택\n",
    "p_columns = [f'P{i}' for i in range(1, 27)]\n",
    "\n",
    "# P1부터 P26까지의 상관관계 계산\n",
    "correlation_matrix_p = filtered_data[p_columns].corr()\n",
    "\n",
    "# 히트맵 생성\n",
    "plt.figure(figsize=(14, 12))\n",
    "sns.heatmap(correlation_matrix_p, annot=True, cmap='coolwarm', vmin=-1, vmax=1, center=0)\n",
    "plt.title('Correlation between P1 to P26 Columns')\n",
    "plt.tight_layout()\n",
    "plt.show()\n",
    "#p17은 고인물"
   ]
  },
  {
   "cell_type": "code",
   "execution_count": null,
   "id": "e229ea32",
   "metadata": {},
   "outputs": [],
   "source": [
    "# P1부터 P26까지의 컬럼과 Q1부터 Q5까지의 컬럼 선택\n",
    "p_columns = [f'P{i}' for i in range(1, 27)]\n",
    "q_columns = [f'Q{i}' for i in range(1, 6)]\n",
    "\n",
    "# P 컬럼들과 Q 컬럼들 간의 상관관계 계산\n",
    "correlation_matrix_pq = filtered_data[p_columns + q_columns].corr().loc[p_columns, q_columns]\n",
    "\n",
    "# 히트맵 생성\n",
    "plt.figure(figsize=(12, 16))\n",
    "sns.heatmap(correlation_matrix_pq, annot=True, cmap='coolwarm', vmin=-1, vmax=1, center=0)\n",
    "plt.title('Correlation between P Columns and Q Columns')\n",
    "plt.xlabel('Q Columns')\n",
    "plt.ylabel('P Columns')\n",
    "plt.tight_layout()\n",
    "plt.show()\n",
    "\n",
    "# 가장 높은 상관관계를 가진 P-Q 쌍 5개 출력\n",
    "correlation_pairs = []\n",
    "for p in p_columns:\n",
    "    for q in q_columns:\n",
    "        correlation_pairs.append((p, q, correlation_matrix_pq.loc[p, q]))\n",
    "\n",
    "top_5_correlations = sorted(correlation_pairs, key=lambda x: abs(x[2]), reverse=True)[:5]\n",
    "\n",
    "print(\"가장 높은 상관관계를 가진 P-Q 쌍 5개:\")\n",
    "for p, q, corr in top_5_correlations:\n",
    "    print(f\"{p} - {q}: {corr:.4f}\")"
   ]
  },
  {
   "cell_type": "code",
   "execution_count": null,
   "id": "bdbfcfda",
   "metadata": {},
   "outputs": [],
   "source": []
  },
  {
   "cell_type": "code",
   "execution_count": null,
   "id": "0f88606f",
   "metadata": {},
   "outputs": [],
   "source": [
    "# 산점도 생성\n",
    "plt.figure(figsize=(10, 6))\n",
    "sns.scatterplot(data=filtered_data, x='P7', y='Q4')\n",
    "\n",
    "# 회귀선 추가\n",
    "sns.regplot(data=filtered_data, x='P7', y='Q4', scatter=False, color='red')\n",
    "\n",
    "# 그래프 제목과 축 레이블 설정\n",
    "plt.title('Relationship between P7 and Q4')\n",
    "plt.xlabel('P7')\n",
    "plt.ylabel('Q4')\n",
    "\n",
    "# 상관계수 계산 및 표시\n",
    "correlation = filtered_data['P7'].corr(filtered_data['Q4'])\n",
    "plt.text(0.05, 0.95, f'Correlation: {correlation:.2f}', transform=plt.gca().transAxes)\n",
    "\n",
    "plt.tight_layout()\n",
    "plt.show()\n",
    "\n",
    "# 추가적인 통계 정보 출력\n",
    "print(f\"P7와 Q4의 상관계수: {correlation:.4f}\")\n",
    "print(\"\\n기술 통계:\")\n",
    "print(filtered_data[['P7', 'Q4']].describe())"
   ]
  },
  {
   "cell_type": "markdown",
   "id": "66852216",
   "metadata": {},
   "source": [
    "## 전체 데이터의 경우"
   ]
  },
  {
   "cell_type": "code",
   "execution_count": null,
   "id": "bd94e204",
   "metadata": {},
   "outputs": [],
   "source": [
    "# P1부터 P26까지의 컬럼과 Q1부터 Q5까지의 컬럼 선택\n",
    "p_columns = [f'P{i}' for i in range(1, 27)]\n",
    "q_columns = [f'Q{i}' for i in range(1, 6)]\n",
    "\n",
    "# P 컬럼들과 Q 컬럼들 간의 상관관계 계산\n",
    "correlation_matrix_pq = df_A[p_columns + q_columns].corr().loc[p_columns, q_columns]\n",
    "\n",
    "# 히트맵 생성\n",
    "plt.figure(figsize=(12, 16))\n",
    "sns.heatmap(correlation_matrix_pq, annot=True, cmap='coolwarm', vmin=-1, vmax=1, center=0)\n",
    "plt.title('Correlation between P Columns and Q Columns')\n",
    "plt.xlabel('Q Columns')\n",
    "plt.ylabel('P Columns')\n",
    "plt.tight_layout()\n",
    "plt.show()\n",
    "\n",
    "# 가장 높은 상관관계를 가진 P-Q 쌍 5개 출력\n",
    "correlation_pairs = []\n",
    "for p in p_columns:\n",
    "    for q in q_columns:\n",
    "        correlation_pairs.append((p, q, correlation_matrix_pq.loc[p, q]))\n",
    "\n",
    "top_5_correlations = sorted(correlation_pairs, key=lambda x: abs(x[2]), reverse=True)[:5]\n",
    "\n",
    "print(\"가장 높은 상관관계를 가진 P-Q 쌍 5개:\")\n",
    "for p, q, corr in top_5_correlations:\n",
    "    print(f\"{p} - {q}: {corr:.4f}\")"
   ]
  }
 ],
 "metadata": {
  "kernelspec": {
   "display_name": "Python 3 (ipykernel)",
   "language": "python",
   "name": "python3"
  },
  "language_info": {
   "codemirror_mode": {
    "name": "ipython",
    "version": 3
   },
   "file_extension": ".py",
   "mimetype": "text/x-python",
   "name": "python",
   "nbconvert_exporter": "python",
   "pygments_lexer": "ipython3",
   "version": "3.11.5"
  }
 },
 "nbformat": 4,
 "nbformat_minor": 5
}
