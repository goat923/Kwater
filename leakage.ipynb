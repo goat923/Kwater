def create_leakage_variable(data, structure):
    if structure == 'A':
        return data['Q1'] + data['Q2'] + data['Q3'] + data['Q4'] - data['Q5']
    elif structure == 'B':
        return data['Q1'] - (data['Q2'] + data['Q3'] + data['Q4'])
    elif structure == 'C':
        return data['Q1'] - (data['Q2'] + data['Q3'] + data['Q4'] + data['Q5'] + data['Q6'] + data['Q7'] + data['Q8'])
    elif structure == 'D':
        return data['Q1'] - (data['Q2'] + data['Q3'] + data['Q4'] + data['Q5'])
    else:
        return None

def train_structure_classifier(train_A, train_B, train_C, train_D):
    # 특성 추출
    features_A = train_A[['Q1', 'Q2', 'Q3', 'Q4', 'Q5']]
    features_B = train_B[['Q1', 'Q2', 'Q3', 'Q4']]
    features_C = train_C[['Q1', 'Q2', 'Q3', 'Q4', 'Q5', 'Q6', 'Q7', 'Q8']]
    features_D = train_D[['Q1', 'Q2', 'Q3', 'Q4', 'Q5']]
    
    # 레이블 생성
    labels_A = ['A'] * len(train_A)
    labels_B = ['B'] * len(train_B)
    labels_C = ['C'] * len(train_C)
    labels_D = ['D'] * len(train_D)
    
    # 데이터 결합
    features = pd.concat([features_A, features_B, features_C, features_D], axis=0)
    labels = labels_A + labels_B + labels_C + labels_D
    
    # 스케일링 및 모델 학습 (이전 코드와 동일)
    
    return clf, scaler
